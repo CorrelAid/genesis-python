{
 "cells": [
  {
   "cell_type": "code",
   "execution_count": null,
   "id": "25e9250e",
   "metadata": {},
   "outputs": [],
   "source": [
    "import logging\n",
    "logging.basicConfig(level=logging.INFO)\n",
    "\n",
    "from pystatis import Cube"
   ]
  },
  {
   "cell_type": "code",
   "execution_count": null,
   "id": "b28edfd3",
   "metadata": {},
   "outputs": [],
   "source": [
    "c = Cube(name=\"22922KJ1141\")"
   ]
  },
  {
   "cell_type": "code",
   "execution_count": null,
   "id": "ead4f13c",
   "metadata": {},
   "outputs": [],
   "source": [
    "c.get_data()"
   ]
  },
  {
   "cell_type": "code",
   "execution_count": null,
   "id": "ac68d224",
   "metadata": {},
   "outputs": [],
   "source": [
    "c.name"
   ]
  },
  {
   "cell_type": "code",
   "execution_count": null,
   "id": "4bec2cdb",
   "metadata": {},
   "outputs": [],
   "source": [
    "for k,v in c.cube.items():\n",
    "    print(\"Cube section: \", k)\n",
    "    print(v)\n",
    "    print()"
   ]
  },
  {
   "cell_type": "code",
   "execution_count": null,
   "id": "e69759d9",
   "metadata": {},
   "outputs": [],
   "source": [
    "c.data"
   ]
  },
  {
   "cell_type": "code",
   "execution_count": null,
   "id": "b57fbeab",
   "metadata": {},
   "outputs": [],
   "source": [
    "c.data.info()"
   ]
  },
  {
   "cell_type": "code",
   "execution_count": null,
   "id": "f2f260b3",
   "metadata": {},
   "outputs": [],
   "source": [
    "from pprint import pprint \n",
    "\n",
    "pprint(c.metadata)"
   ]
  }
 ],
 "metadata": {
  "kernelspec": {
   "display_name": "Python 3 (ipykernel)",
   "language": "python",
   "name": "python3"
  },
  "language_info": {
   "codemirror_mode": {
    "name": "ipython",
    "version": 3
   },
   "file_extension": ".py",
   "mimetype": "text/x-python",
   "name": "python",
   "nbconvert_exporter": "python",
   "pygments_lexer": "ipython3",
   "version": "3.9.7"
  },
  "vscode": {
   "interpreter": {
    "hash": "3247f7d4635bb288d9e06d3deacee818856115b2677ccfdf5a578edab993fe5f"
   }
  }
 },
 "nbformat": 4,
 "nbformat_minor": 5
}
