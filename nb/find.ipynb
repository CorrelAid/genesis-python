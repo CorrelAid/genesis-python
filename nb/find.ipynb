{
 "cells": [
  {
   "cell_type": "code",
   "execution_count": 16,
   "metadata": {},
   "outputs": [
    {
     "name": "stdout",
     "output_type": "stream",
     "text": [
      "The autoreload extension is already loaded. To reload it, use:\n",
      "  %reload_ext autoreload\n"
     ]
    }
   ],
   "source": [
    "%load_ext autoreload\n",
    "%autoreload 2"
   ]
  },
  {
   "cell_type": "code",
   "execution_count": 17,
   "metadata": {},
   "outputs": [],
   "source": [
    "import pandas as pd\n",
    "import pygenesis.find as find"
   ]
  },
  {
   "cell_type": "markdown",
   "source": [
    "## Method 1: Directly retrieve results\n",
    "You can pass a search query and a category (tables, variables, statistics, ...) and will directly get the result."
   ],
   "metadata": {
    "collapsed": false
   }
  },
  {
   "cell_type": "code",
   "metadata": {
    "pycharm": {
     "name": "#%%\n"
    }
   },
   "source": [
    "table_result = find.get_find_data(\"Rohöl\", \"tables\")\n",
    "table_result"
   ],
   "execution_count": 18,
   "outputs": [
    {
     "data": {
      "text/plain": "          Code                                                                                                                                         Content Time\n0   42131-0003     Produktionswert, -menge, -gewicht und Unternehmen derVierteljährlichen Produktionserhebung: Deutschland, Jahre,Güterverzeichnis (9-Steller)     \n1   42131-0004  Produktionswert, -menge, -gewicht und Unternehmen derVierteljährlichen Produktionserhebung: Deutschland,Quartale, Güterverzeichnis (9-Steller)     \n2   51000-0005                                                                              Aus- und Einfuhr (Außenhandel): Deutschland, Jahre,Warensystematik     \n3   51000-0006                                                                             Aus- und Einfuhr (Außenhandel): Deutschland, Monate,Warensystematik     \n4   51000-0009                                                        Aus- und Einfuhr (Außenhandel): Deutschland, Jahre, Land,Warenverzeichnis (4-/6-Steller)     \n5   51000-0010                                                                  Aus- und Einfuhr (Außenhandel): Deutschland, Jahre,Ware (4-/6-Steller), Länder     \n6   51000-0011                                                       Aus- und Einfuhr (Außenhandel): Deutschland, Monate, Land,Warenverzeichnis (4-/6-Steller)     \n7   51000-0012                                                                 Aus- und Einfuhr (Außenhandel): Deutschland, Monate,Ware (4-/6-Steller), Länder     \n8   51000-0013                                                                 Aus- und Einfuhr (Außenhandel): Deutschland, Jahre,Warenverzeichnis (8-Steller)     \n9   51000-0014                                                                Aus- und Einfuhr (Außenhandel): Deutschland, Monate,Warenverzeichnis (8-Steller)     \n10  51000-0015                                                           Aus- und Einfuhr (Außenhandel): Deutschland, Jahre, Land,Warenverzeichnis (8-Steller)     \n11  51000-0016                                                                     Aus- und Einfuhr (Außenhandel): Deutschland, Jahre,Ware (8-Steller), Länder     \n12  51000-0017                                                          Aus- und Einfuhr (Außenhandel): Deutschland, Monate, Land,Warenverzeichnis (8-Steller)     \n13  51000-0018                                                                    Aus- und Einfuhr (Außenhandel): Deutschland, Monate,Ware (8-Steller), Länder     \n14  61241-0003                Erzeugerpreisindex gewerblicher Produkte: Deutschland,Jahre, Güterverzeichnis (GP2009 2-/3-/4-/5-/6-/9-Steller/Sonderpositionen)     \n15  61241-0004               Erzeugerpreisindex gewerblicher Produkte: Deutschland,Monate, Güterverzeichnis (GP2009 2-/3-/4-/5-/6-/9-Steller/Sonderpositionen)     ",
      "text/html": "<div>\n<style scoped>\n    .dataframe tbody tr th:only-of-type {\n        vertical-align: middle;\n    }\n\n    .dataframe tbody tr th {\n        vertical-align: top;\n    }\n\n    .dataframe thead th {\n        text-align: right;\n    }\n</style>\n<table border=\"1\" class=\"dataframe\">\n  <thead>\n    <tr style=\"text-align: right;\">\n      <th></th>\n      <th>Code</th>\n      <th>Content</th>\n      <th>Time</th>\n    </tr>\n  </thead>\n  <tbody>\n    <tr>\n      <th>0</th>\n      <td>42131-0003</td>\n      <td>Produktionswert, -menge, -gewicht und Unternehmen derVierteljährlichen Produktionserhebung: Deutschland, Jahre,Güterverzeichnis (9-Steller)</td>\n      <td></td>\n    </tr>\n    <tr>\n      <th>1</th>\n      <td>42131-0004</td>\n      <td>Produktionswert, -menge, -gewicht und Unternehmen derVierteljährlichen Produktionserhebung: Deutschland,Quartale, Güterverzeichnis (9-Steller)</td>\n      <td></td>\n    </tr>\n    <tr>\n      <th>2</th>\n      <td>51000-0005</td>\n      <td>Aus- und Einfuhr (Außenhandel): Deutschland, Jahre,Warensystematik</td>\n      <td></td>\n    </tr>\n    <tr>\n      <th>3</th>\n      <td>51000-0006</td>\n      <td>Aus- und Einfuhr (Außenhandel): Deutschland, Monate,Warensystematik</td>\n      <td></td>\n    </tr>\n    <tr>\n      <th>4</th>\n      <td>51000-0009</td>\n      <td>Aus- und Einfuhr (Außenhandel): Deutschland, Jahre, Land,Warenverzeichnis (4-/6-Steller)</td>\n      <td></td>\n    </tr>\n    <tr>\n      <th>5</th>\n      <td>51000-0010</td>\n      <td>Aus- und Einfuhr (Außenhandel): Deutschland, Jahre,Ware (4-/6-Steller), Länder</td>\n      <td></td>\n    </tr>\n    <tr>\n      <th>6</th>\n      <td>51000-0011</td>\n      <td>Aus- und Einfuhr (Außenhandel): Deutschland, Monate, Land,Warenverzeichnis (4-/6-Steller)</td>\n      <td></td>\n    </tr>\n    <tr>\n      <th>7</th>\n      <td>51000-0012</td>\n      <td>Aus- und Einfuhr (Außenhandel): Deutschland, Monate,Ware (4-/6-Steller), Länder</td>\n      <td></td>\n    </tr>\n    <tr>\n      <th>8</th>\n      <td>51000-0013</td>\n      <td>Aus- und Einfuhr (Außenhandel): Deutschland, Jahre,Warenverzeichnis (8-Steller)</td>\n      <td></td>\n    </tr>\n    <tr>\n      <th>9</th>\n      <td>51000-0014</td>\n      <td>Aus- und Einfuhr (Außenhandel): Deutschland, Monate,Warenverzeichnis (8-Steller)</td>\n      <td></td>\n    </tr>\n    <tr>\n      <th>10</th>\n      <td>51000-0015</td>\n      <td>Aus- und Einfuhr (Außenhandel): Deutschland, Jahre, Land,Warenverzeichnis (8-Steller)</td>\n      <td></td>\n    </tr>\n    <tr>\n      <th>11</th>\n      <td>51000-0016</td>\n      <td>Aus- und Einfuhr (Außenhandel): Deutschland, Jahre,Ware (8-Steller), Länder</td>\n      <td></td>\n    </tr>\n    <tr>\n      <th>12</th>\n      <td>51000-0017</td>\n      <td>Aus- und Einfuhr (Außenhandel): Deutschland, Monate, Land,Warenverzeichnis (8-Steller)</td>\n      <td></td>\n    </tr>\n    <tr>\n      <th>13</th>\n      <td>51000-0018</td>\n      <td>Aus- und Einfuhr (Außenhandel): Deutschland, Monate,Ware (8-Steller), Länder</td>\n      <td></td>\n    </tr>\n    <tr>\n      <th>14</th>\n      <td>61241-0003</td>\n      <td>Erzeugerpreisindex gewerblicher Produkte: Deutschland,Jahre, Güterverzeichnis (GP2009 2-/3-/4-/5-/6-/9-Steller/Sonderpositionen)</td>\n      <td></td>\n    </tr>\n    <tr>\n      <th>15</th>\n      <td>61241-0004</td>\n      <td>Erzeugerpreisindex gewerblicher Produkte: Deutschland,Monate, Güterverzeichnis (GP2009 2-/3-/4-/5-/6-/9-Steller/Sonderpositionen)</td>\n      <td></td>\n    </tr>\n  </tbody>\n</table>\n</div>"
     },
     "execution_count": 18,
     "metadata": {},
     "output_type": "execute_result"
    }
   ]
  },
  {
   "cell_type": "markdown",
   "source": [
    "## Method 2: Summary results for tables, variables and statistics\n",
    "You pass a search query retrieve a summary of search results for tables, variables, statistics. You can also inspect each of those three results in more depth."
   ],
   "metadata": {
    "collapsed": false
   }
  },
  {
   "cell_type": "code",
   "execution_count": 19,
   "outputs": [
    {
     "name": "stdout",
     "output_type": "stream",
     "text": [
      "##### Results #####\n",
      "----------------------------------------\n",
      "# Number of tables: 16\n",
      "# Preview:\n",
      "         Code                                                                                                                                         Content Time\n",
      "0  42131-0003     Produktionswert, -menge, -gewicht und Unternehmen derVierteljährlichen Produktionserhebung: Deutschland, Jahre,Güterverzeichnis (9-Steller)     \n",
      "1  42131-0004  Produktionswert, -menge, -gewicht und Unternehmen derVierteljährlichen Produktionserhebung: Deutschland,Quartale, Güterverzeichnis (9-Steller)     \n",
      "2  51000-0005                                                                              Aus- und Einfuhr (Außenhandel): Deutschland, Jahre,Warensystematik     \n",
      "3  51000-0006                                                                             Aus- und Einfuhr (Außenhandel): Deutschland, Monate,Warensystematik     \n",
      "4  51000-0009                                                        Aus- und Einfuhr (Außenhandel): Deutschland, Jahre, Land,Warenverzeichnis (4-/6-Steller)     \n",
      "----------------------------------------\n",
      "# Number of statistics: 3\n",
      "# Preview:\n",
      "    Code                                             Content Cubes Information\n",
      "0  42131  Vierteljährliche Produktionserhebung i.Verarb.Gew.    18        true\n",
      "1  51000                                         Außenhandel    79        true\n",
      "2  61241      Index der Erzeugerpreise gewerblicher Produkte    18        true\n",
      "----------------------------------------\n",
      "# Number of variables: 6\n",
      "# Preview:\n",
      "     Code                                             Content      Type Values Information\n",
      "0  GP02A9                          GP2002 (9-Steller (Arten))  sachlich   6147        true\n",
      "1  GP09A9                          GP2009 (9-Steller (Arten))  sachlich   5250        true\n",
      "2  GP09N1   GP2009 (ausgewählte 9-Steller): Gewerbl. Produkte  sachlich   1350       false\n",
      "3  GP19A9                          GP2019 (9-Steller (Arten))  sachlich   5018        true\n",
      "4    WAM6  Warenverzeichnis Außenhandelsstatistik (6-Steller)  sachlich   6339        true\n",
      "----------------------------------------\n",
      "# Info: Use object.tables, object.statistics or object.variables to get all results.\n",
      "----------------------------------------\n"
     ]
    }
   ],
   "source": [
    "# Creates object and prints summary results\n",
    "summary_results = find.SummaryResults(\"Rohöl\")"
   ],
   "metadata": {
    "collapsed": false,
    "pycharm": {
     "name": "#%%\n"
    }
   }
  },
  {
   "cell_type": "code",
   "execution_count": 20,
   "outputs": [
    {
     "data": {
      "text/plain": "          Code                                                                                                                                         Content Time\n0   42131-0003     Produktionswert, -menge, -gewicht und Unternehmen derVierteljährlichen Produktionserhebung: Deutschland, Jahre,Güterverzeichnis (9-Steller)     \n1   42131-0004  Produktionswert, -menge, -gewicht und Unternehmen derVierteljährlichen Produktionserhebung: Deutschland,Quartale, Güterverzeichnis (9-Steller)     \n2   51000-0005                                                                              Aus- und Einfuhr (Außenhandel): Deutschland, Jahre,Warensystematik     \n3   51000-0006                                                                             Aus- und Einfuhr (Außenhandel): Deutschland, Monate,Warensystematik     \n4   51000-0009                                                        Aus- und Einfuhr (Außenhandel): Deutschland, Jahre, Land,Warenverzeichnis (4-/6-Steller)     \n5   51000-0010                                                                  Aus- und Einfuhr (Außenhandel): Deutschland, Jahre,Ware (4-/6-Steller), Länder     \n6   51000-0011                                                       Aus- und Einfuhr (Außenhandel): Deutschland, Monate, Land,Warenverzeichnis (4-/6-Steller)     \n7   51000-0012                                                                 Aus- und Einfuhr (Außenhandel): Deutschland, Monate,Ware (4-/6-Steller), Länder     \n8   51000-0013                                                                 Aus- und Einfuhr (Außenhandel): Deutschland, Jahre,Warenverzeichnis (8-Steller)     \n9   51000-0014                                                                Aus- und Einfuhr (Außenhandel): Deutschland, Monate,Warenverzeichnis (8-Steller)     \n10  51000-0015                                                           Aus- und Einfuhr (Außenhandel): Deutschland, Jahre, Land,Warenverzeichnis (8-Steller)     \n11  51000-0016                                                                     Aus- und Einfuhr (Außenhandel): Deutschland, Jahre,Ware (8-Steller), Länder     \n12  51000-0017                                                          Aus- und Einfuhr (Außenhandel): Deutschland, Monate, Land,Warenverzeichnis (8-Steller)     \n13  51000-0018                                                                    Aus- und Einfuhr (Außenhandel): Deutschland, Monate,Ware (8-Steller), Länder     \n14  61241-0003                Erzeugerpreisindex gewerblicher Produkte: Deutschland,Jahre, Güterverzeichnis (GP2009 2-/3-/4-/5-/6-/9-Steller/Sonderpositionen)     \n15  61241-0004               Erzeugerpreisindex gewerblicher Produkte: Deutschland,Monate, Güterverzeichnis (GP2009 2-/3-/4-/5-/6-/9-Steller/Sonderpositionen)     ",
      "text/html": "<div>\n<style scoped>\n    .dataframe tbody tr th:only-of-type {\n        vertical-align: middle;\n    }\n\n    .dataframe tbody tr th {\n        vertical-align: top;\n    }\n\n    .dataframe thead th {\n        text-align: right;\n    }\n</style>\n<table border=\"1\" class=\"dataframe\">\n  <thead>\n    <tr style=\"text-align: right;\">\n      <th></th>\n      <th>Code</th>\n      <th>Content</th>\n      <th>Time</th>\n    </tr>\n  </thead>\n  <tbody>\n    <tr>\n      <th>0</th>\n      <td>42131-0003</td>\n      <td>Produktionswert, -menge, -gewicht und Unternehmen derVierteljährlichen Produktionserhebung: Deutschland, Jahre,Güterverzeichnis (9-Steller)</td>\n      <td></td>\n    </tr>\n    <tr>\n      <th>1</th>\n      <td>42131-0004</td>\n      <td>Produktionswert, -menge, -gewicht und Unternehmen derVierteljährlichen Produktionserhebung: Deutschland,Quartale, Güterverzeichnis (9-Steller)</td>\n      <td></td>\n    </tr>\n    <tr>\n      <th>2</th>\n      <td>51000-0005</td>\n      <td>Aus- und Einfuhr (Außenhandel): Deutschland, Jahre,Warensystematik</td>\n      <td></td>\n    </tr>\n    <tr>\n      <th>3</th>\n      <td>51000-0006</td>\n      <td>Aus- und Einfuhr (Außenhandel): Deutschland, Monate,Warensystematik</td>\n      <td></td>\n    </tr>\n    <tr>\n      <th>4</th>\n      <td>51000-0009</td>\n      <td>Aus- und Einfuhr (Außenhandel): Deutschland, Jahre, Land,Warenverzeichnis (4-/6-Steller)</td>\n      <td></td>\n    </tr>\n    <tr>\n      <th>5</th>\n      <td>51000-0010</td>\n      <td>Aus- und Einfuhr (Außenhandel): Deutschland, Jahre,Ware (4-/6-Steller), Länder</td>\n      <td></td>\n    </tr>\n    <tr>\n      <th>6</th>\n      <td>51000-0011</td>\n      <td>Aus- und Einfuhr (Außenhandel): Deutschland, Monate, Land,Warenverzeichnis (4-/6-Steller)</td>\n      <td></td>\n    </tr>\n    <tr>\n      <th>7</th>\n      <td>51000-0012</td>\n      <td>Aus- und Einfuhr (Außenhandel): Deutschland, Monate,Ware (4-/6-Steller), Länder</td>\n      <td></td>\n    </tr>\n    <tr>\n      <th>8</th>\n      <td>51000-0013</td>\n      <td>Aus- und Einfuhr (Außenhandel): Deutschland, Jahre,Warenverzeichnis (8-Steller)</td>\n      <td></td>\n    </tr>\n    <tr>\n      <th>9</th>\n      <td>51000-0014</td>\n      <td>Aus- und Einfuhr (Außenhandel): Deutschland, Monate,Warenverzeichnis (8-Steller)</td>\n      <td></td>\n    </tr>\n    <tr>\n      <th>10</th>\n      <td>51000-0015</td>\n      <td>Aus- und Einfuhr (Außenhandel): Deutschland, Jahre, Land,Warenverzeichnis (8-Steller)</td>\n      <td></td>\n    </tr>\n    <tr>\n      <th>11</th>\n      <td>51000-0016</td>\n      <td>Aus- und Einfuhr (Außenhandel): Deutschland, Jahre,Ware (8-Steller), Länder</td>\n      <td></td>\n    </tr>\n    <tr>\n      <th>12</th>\n      <td>51000-0017</td>\n      <td>Aus- und Einfuhr (Außenhandel): Deutschland, Monate, Land,Warenverzeichnis (8-Steller)</td>\n      <td></td>\n    </tr>\n    <tr>\n      <th>13</th>\n      <td>51000-0018</td>\n      <td>Aus- und Einfuhr (Außenhandel): Deutschland, Monate,Ware (8-Steller), Länder</td>\n      <td></td>\n    </tr>\n    <tr>\n      <th>14</th>\n      <td>61241-0003</td>\n      <td>Erzeugerpreisindex gewerblicher Produkte: Deutschland,Jahre, Güterverzeichnis (GP2009 2-/3-/4-/5-/6-/9-Steller/Sonderpositionen)</td>\n      <td></td>\n    </tr>\n    <tr>\n      <th>15</th>\n      <td>61241-0004</td>\n      <td>Erzeugerpreisindex gewerblicher Produkte: Deutschland,Monate, Güterverzeichnis (GP2009 2-/3-/4-/5-/6-/9-Steller/Sonderpositionen)</td>\n      <td></td>\n    </tr>\n  </tbody>\n</table>\n</div>"
     },
     "execution_count": 20,
     "metadata": {},
     "output_type": "execute_result"
    }
   ],
   "source": [
    "# Shows specific results in full detail\n",
    "summary_results.tables"
   ],
   "metadata": {
    "collapsed": false,
    "pycharm": {
     "name": "#%%\n"
    }
   }
  },
  {
   "cell_type": "code",
   "execution_count": 21,
   "outputs": [
    {
     "data": {
      "text/plain": "     Code                                             Content      Type Values Information\n0  GP02A9                          GP2002 (9-Steller (Arten))  sachlich   6147        true\n1  GP09A9                          GP2009 (9-Steller (Arten))  sachlich   5250        true\n2  GP09N1   GP2009 (ausgewählte 9-Steller): Gewerbl. Produkte  sachlich   1350       false\n3  GP19A9                          GP2019 (9-Steller (Arten))  sachlich   5018        true\n4    WAM6  Warenverzeichnis Außenhandelsstatistik (6-Steller)  sachlich   6339        true\n5    WAM8  Warenverzeichnis Außenhandelsstatistik (8-Steller)  sachlich  14106        true",
      "text/html": "<div>\n<style scoped>\n    .dataframe tbody tr th:only-of-type {\n        vertical-align: middle;\n    }\n\n    .dataframe tbody tr th {\n        vertical-align: top;\n    }\n\n    .dataframe thead th {\n        text-align: right;\n    }\n</style>\n<table border=\"1\" class=\"dataframe\">\n  <thead>\n    <tr style=\"text-align: right;\">\n      <th></th>\n      <th>Code</th>\n      <th>Content</th>\n      <th>Type</th>\n      <th>Values</th>\n      <th>Information</th>\n    </tr>\n  </thead>\n  <tbody>\n    <tr>\n      <th>0</th>\n      <td>GP02A9</td>\n      <td>GP2002 (9-Steller (Arten))</td>\n      <td>sachlich</td>\n      <td>6147</td>\n      <td>true</td>\n    </tr>\n    <tr>\n      <th>1</th>\n      <td>GP09A9</td>\n      <td>GP2009 (9-Steller (Arten))</td>\n      <td>sachlich</td>\n      <td>5250</td>\n      <td>true</td>\n    </tr>\n    <tr>\n      <th>2</th>\n      <td>GP09N1</td>\n      <td>GP2009 (ausgewählte 9-Steller): Gewerbl. Produkte</td>\n      <td>sachlich</td>\n      <td>1350</td>\n      <td>false</td>\n    </tr>\n    <tr>\n      <th>3</th>\n      <td>GP19A9</td>\n      <td>GP2019 (9-Steller (Arten))</td>\n      <td>sachlich</td>\n      <td>5018</td>\n      <td>true</td>\n    </tr>\n    <tr>\n      <th>4</th>\n      <td>WAM6</td>\n      <td>Warenverzeichnis Außenhandelsstatistik (6-Steller)</td>\n      <td>sachlich</td>\n      <td>6339</td>\n      <td>true</td>\n    </tr>\n    <tr>\n      <th>5</th>\n      <td>WAM8</td>\n      <td>Warenverzeichnis Außenhandelsstatistik (8-Steller)</td>\n      <td>sachlich</td>\n      <td>14106</td>\n      <td>true</td>\n    </tr>\n  </tbody>\n</table>\n</div>"
     },
     "execution_count": 21,
     "metadata": {},
     "output_type": "execute_result"
    }
   ],
   "source": [
    "summary_results.variables"
   ],
   "metadata": {
    "collapsed": false,
    "pycharm": {
     "name": "#%%\n"
    }
   }
  }
 ],
 "metadata": {
  "kernelspec": {
   "name": "pycharm-9238bc6b",
   "language": "python",
   "display_name": "PyCharm (genesis-python)"
  },
  "language_info": {
   "codemirror_mode": {
    "name": "ipython",
    "version": 3
   },
   "file_extension": ".py",
   "mimetype": "text/x-python",
   "name": "python",
   "nbconvert_exporter": "python",
   "pygments_lexer": "ipython3",
   "version": "3.9.7"
  },
  "vscode": {
   "interpreter": {
    "hash": "ee0113c470e2ab03fd08da308faad6cb3acef2959a5a1adc44423161e2606732"
   }
  }
 },
 "nbformat": 4,
 "nbformat_minor": 2
}
