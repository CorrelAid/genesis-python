{
 "cells": [
  {
   "cell_type": "code",
   "execution_count": 17,
   "metadata": {},
   "outputs": [
    {
     "name": "stdout",
     "output_type": "stream",
     "text": [
      "The autoreload extension is already loaded. To reload it, use:\n",
      "  %reload_ext autoreload\n"
     ]
    }
   ],
   "source": [
    "%load_ext autoreload\n",
    "%autoreload 2"
   ]
  },
  {
   "cell_type": "code",
   "execution_count": 18,
   "metadata": {},
   "outputs": [],
   "source": [
    "import pandas as pd\n",
    "import pygenesis.hierarchy as hierarchy"
   ]
  },
  {
   "cell_type": "markdown",
   "source": [
    "## Method 1: Start from scratch"
   ],
   "metadata": {
    "collapsed": false
   }
  },
  {
   "cell_type": "code",
   "metadata": {
    "pycharm": {
     "name": "#%%\n"
    }
   },
   "source": [
    "table_result = hierarchy.Hierarchy()"
   ],
   "execution_count": 19,
   "outputs": [
    {
     "name": "stdout",
     "output_type": "stream",
     "text": [
      "Hierarchie\n",
      "----------------------------------------\n",
      "                                                            Beschreibung\n",
      "EVAS                                                                    \n",
      "1                          Gebiet, Bevölkerung, Erwerbstätigkeit, Wahlen\n",
      "2                    Bildung, Sozialleistungen, Gesundheit, Rechtspflege\n",
      "3                                                         Wohnen, Umwelt\n",
      "4                                                    Wirtschaftsbereiche\n",
      "5                                     Außenhandel, Unternehmen, Handwerk\n",
      "6                            Preise, Verdienste, Einkommen und Verbrauch\n",
      "7      Öffentliche Finanzen, Steuern und Personal im öffentlichen Dienst\n",
      "8                                                       Gesamtrechnungen\n",
      "9                                         Sonderbereich - interne Zwecke\n",
      "9                                                         Sonderbereiche\n",
      "10                                       Sonderbereich - Leitmaterialien\n",
      "----------------------------------------\n",
      "# Info: Use objekt.catalogue to access results.\n"
     ]
    }
   ]
  },
  {
   "cell_type": "code",
   "execution_count": 20,
   "outputs": [
    {
     "data": {
      "text/plain": "                                                            Beschreibung\nEVAS                                                                    \n1                          Gebiet, Bevölkerung, Erwerbstätigkeit, Wahlen\n2                    Bildung, Sozialleistungen, Gesundheit, Rechtspflege\n3                                                         Wohnen, Umwelt\n4                                                    Wirtschaftsbereiche\n5                                     Außenhandel, Unternehmen, Handwerk\n6                            Preise, Verdienste, Einkommen und Verbrauch\n7      Öffentliche Finanzen, Steuern und Personal im öffentlichen Dienst\n8                                                       Gesamtrechnungen\n9                                         Sonderbereich - interne Zwecke\n9                                                         Sonderbereiche\n10                                       Sonderbereich - Leitmaterialien",
      "text/html": "<div>\n<style scoped>\n    .dataframe tbody tr th:only-of-type {\n        vertical-align: middle;\n    }\n\n    .dataframe tbody tr th {\n        vertical-align: top;\n    }\n\n    .dataframe thead th {\n        text-align: right;\n    }\n</style>\n<table border=\"1\" class=\"dataframe\">\n  <thead>\n    <tr style=\"text-align: right;\">\n      <th></th>\n      <th>Beschreibung</th>\n    </tr>\n    <tr>\n      <th>EVAS</th>\n      <th></th>\n    </tr>\n  </thead>\n  <tbody>\n    <tr>\n      <th>1</th>\n      <td>Gebiet, Bevölkerung, Erwerbstätigkeit, Wahlen</td>\n    </tr>\n    <tr>\n      <th>2</th>\n      <td>Bildung, Sozialleistungen, Gesundheit, Rechtspflege</td>\n    </tr>\n    <tr>\n      <th>3</th>\n      <td>Wohnen, Umwelt</td>\n    </tr>\n    <tr>\n      <th>4</th>\n      <td>Wirtschaftsbereiche</td>\n    </tr>\n    <tr>\n      <th>5</th>\n      <td>Außenhandel, Unternehmen, Handwerk</td>\n    </tr>\n    <tr>\n      <th>6</th>\n      <td>Preise, Verdienste, Einkommen und Verbrauch</td>\n    </tr>\n    <tr>\n      <th>7</th>\n      <td>Öffentliche Finanzen, Steuern und Personal im öffentlichen Dienst</td>\n    </tr>\n    <tr>\n      <th>8</th>\n      <td>Gesamtrechnungen</td>\n    </tr>\n    <tr>\n      <th>9</th>\n      <td>Sonderbereich - interne Zwecke</td>\n    </tr>\n    <tr>\n      <th>9</th>\n      <td>Sonderbereiche</td>\n    </tr>\n    <tr>\n      <th>10</th>\n      <td>Sonderbereich - Leitmaterialien</td>\n    </tr>\n  </tbody>\n</table>\n</div>"
     },
     "execution_count": 20,
     "metadata": {},
     "output_type": "execute_result"
    }
   ],
   "source": [
    "table_result.catalogue"
   ],
   "metadata": {
    "collapsed": false,
    "pycharm": {
     "name": "#%%\n"
    }
   }
  },
  {
   "cell_type": "markdown",
   "source": [
    "## Method 2: Provide 1 or 2 digits"
   ],
   "metadata": {
    "collapsed": false
   }
  },
  {
   "cell_type": "code",
   "execution_count": 21,
   "outputs": [
    {
     "name": "stdout",
     "output_type": "stream",
     "text": [
      "Hierarchie\n",
      "----------------------------------------\n",
      "                               Beschreibung\n",
      "EVAS                                       \n",
      "121                          Volkszählungen\n",
      "122                             Mikrozensus\n",
      "123                          Haushaltspanel\n",
      "124    Bevölkerungsstand, -vorausberechnung\n",
      "125               Einbürgerungen, Ausländer\n",
      "126       Natürliche Bevölkerungsbewegungen\n",
      "127                             Wanderungen\n",
      "129        Sonstiges im Bereich Bevölkerung\n",
      "----------------------------------------\n",
      "# Info: Use objekt.catalogue to access results.\n"
     ]
    }
   ],
   "source": [
    "table_result = hierarchy.Hierarchy(12)"
   ],
   "metadata": {
    "collapsed": false,
    "pycharm": {
     "name": "#%%\n"
    }
   }
  },
  {
   "cell_type": "markdown",
   "source": [
    "## Method 3: Provide more digits"
   ],
   "metadata": {
    "collapsed": false,
    "pycharm": {
     "name": "#%% md\n"
    }
   }
  },
  {
   "cell_type": "code",
   "execution_count": 23,
   "outputs": [
    {
     "name": "stderr",
     "output_type": "stream",
     "text": [
      "C:\\Users\\danie\\PycharmProjects\\genesis-python\\venv\\lib\\site-packages\\urllib3\\connectionpool.py:1043: InsecureRequestWarning: Unverified HTTPS request is being made to host 'www-genesis.destatis.de'. Adding certificate verification is strongly advised. See: https://urllib3.readthedocs.io/en/1.26.x/advanced-usage.html#ssl-warnings\n",
      "  warnings.warn(\n"
     ]
    },
    {
     "name": "stdout",
     "output_type": "stream",
     "text": [
      "Hierarchie\n",
      "----------------------------------------\n",
      "          Code                                                                                                                         Content                     Time\n",
      "0   12411-0001                                                                                              Bevölkerung: Deutschland, Stichtag  31.12.1950 - 31.12.2021\n",
      "1   12411-0002                                                                                Bevölkerung: Deutschland, Stichtag, Nationalität  31.12.1970 - 31.12.2021\n",
      "2   12411-0003                                                                                  Bevölkerung: Deutschland, Stichtag, Geschlecht  31.12.1970 - 31.12.2021\n",
      "3   12411-0004                                                                               Bevölkerung: Deutschland, Stichtag, Familienstand  31.12.1991 - 31.12.2021\n",
      "4   12411-0005                                                                                 Bevölkerung: Deutschland, Stichtag, Altersjahre  31.12.1970 - 31.12.2021\n",
      "5   12411-0006                                           Bevölkerung: Deutschland, Stichtag, Altersjahre,Nationalität/Geschlecht/Familienstand  31.12.1970 - 31.12.2021\n",
      "6   12411-0007                                          Bevölkerung: Deutschland, Stichtag, Altersjahre,Nationalität, Geschlecht/Familienstand  31.12.1970 - 31.12.2021\n",
      "7   12411-0008                                         Bevölkerung: Deutschland, Stichtag, Altersjahre,Nationalität, Geschlecht, Familienstand  31.12.1991 - 31.12.2021\n",
      "8   12411-0009                                               Bevölkerung: Deutschland, Stichtag, Geschlecht,Altersgruppen, Staatsangehörigkeit  31.12.2011 - 31.12.2021\n",
      "9   12411-0010                                                                                             Bevölkerung: Bundesländer, Stichtag  31.12.1958 - 31.12.2021\n",
      "10  12411-0011                                                                                 Bevölkerung: Bundesländer, Stichtag, Geschlecht  31.12.1967 - 31.12.2021\n",
      "11  12411-0012                                                                                Bevölkerung: Bundesländer, Stichtag, Altersjahre  31.12.1967 - 31.12.2021\n",
      "12  12411-0013                                                                    Bevölkerung: Bundesländer, Stichtag, Geschlecht, Altersjahre  31.12.1967 - 31.12.2021\n",
      "13  12411-0014                                                       Bevölkerung: Bundesländer, Stichtag, Nationalität,Geschlecht, Altersjahre  31.12.2000 - 31.12.2021\n",
      "14  12411-0015                                                                                                   Bevölkerung: Kreise, Stichtag  31.12.1995 - 31.12.2021\n",
      "15  12411-0016                                                                                       Bevölkerung: Kreise, Stichtag, Geschlecht  31.12.1995 - 31.12.2021\n",
      "16  12411-0017                                                                                    Bevölkerung: Kreise, Stichtag, Altersgruppen  31.12.1995 - 31.12.2021\n",
      "17  12411-0018                                                                        Bevölkerung: Kreise, Stichtag, Geschlecht, Altersgruppen  31.12.1995 - 31.12.2021\n",
      "18  12411-0020                                                                  Bevölkerung: Deutschland, Stichtag zum Quartalsende,Geschlecht  31.03.1991 - 31.03.2022\n",
      "19  12411-0021                                                                 Bevölkerung: Bundesländer, Stichtag zum Quartalsende,Geschlecht  31.03.1991 - 31.03.2022\n",
      "20  12411-0040                                                      Durchschnittliche Bevölkerung: Deutschland, Jahre,Nationalität, Geschlecht              2000 - 2021\n",
      "21  12411-0041                                         Durchschnittliche Bevölkerung: Deutschland, Jahre,Nationalität, Geschlecht, Altersjahre              2000 - 2021\n",
      "22  12411-0042                                                     Durchschnittliche Bevölkerung: Bundesländer, Jahre,Nationalität, Geschlecht              2000 - 2021\n",
      "23  12411-0050                                                                                      Bevölkerungsdichte: Bundesländer, Stichtag  31.12.1995 - 31.12.2020\n",
      "24  12421-0001                           Vorausberechneter Bevölkerungsstand: Deutschland, Stichtag,Varianten der Bevölkerungsvorausberechnung  31.12.2019 - 31.12.2060\n",
      "25  12421-0002   Vorausberechneter Bevölkerungsstand: Deutschland, Stichtag,Varianten der Bevölkerungsvorausberechnung, Geschlecht,Altersjahre  31.12.2019 - 31.12.2060\n",
      "26  12421-0003                          Vorausberechneter Bevölkerungsstand: Bundesländer, Stichtag,Varianten der Bevölkerungsvorausberechnung  31.12.2019 - 31.12.2060\n",
      "27  12421-0004  Vorausberechneter Bevölkerungsstand: Bundesländer, Stichtag,Varianten der Bevölkerungsvorausberechnung, Geschlecht,Altersjahre  31.12.2019 - 31.12.2060\n",
      "28  12421-0100                    Vorausberechnete Privathaushalte: Deutschland, Jahre,Varianten der Haushaltsvorausberechnung, Haushaltsgröße              2019 - 2040\n",
      "29  12421-0101                   Vorausberechnete Privathaushalte: Bundesländer, Jahre,Varianten der Haushaltsvorausberechnung, Haushaltsgröße              2019 - 2040\n",
      "----------------------------------------\n",
      "# Info: Use objekt.catalogue to access results.\n"
     ]
    }
   ],
   "source": [
    "table_result = hierarchy.Hierarchy(124)"
   ],
   "metadata": {
    "collapsed": false,
    "pycharm": {
     "name": "#%%\n"
    }
   }
  },
  {
   "cell_type": "code",
   "execution_count": 26,
   "outputs": [
    {
     "data": {
      "text/plain": "          Code                                                                                                                         Content                     Time\n0   12411-0001                                                                                              Bevölkerung: Deutschland, Stichtag  31.12.1950 - 31.12.2021\n1   12411-0002                                                                                Bevölkerung: Deutschland, Stichtag, Nationalität  31.12.1970 - 31.12.2021\n2   12411-0003                                                                                  Bevölkerung: Deutschland, Stichtag, Geschlecht  31.12.1970 - 31.12.2021\n3   12411-0004                                                                               Bevölkerung: Deutschland, Stichtag, Familienstand  31.12.1991 - 31.12.2021\n4   12411-0005                                                                                 Bevölkerung: Deutschland, Stichtag, Altersjahre  31.12.1970 - 31.12.2021\n5   12411-0006                                           Bevölkerung: Deutschland, Stichtag, Altersjahre,Nationalität/Geschlecht/Familienstand  31.12.1970 - 31.12.2021\n6   12411-0007                                          Bevölkerung: Deutschland, Stichtag, Altersjahre,Nationalität, Geschlecht/Familienstand  31.12.1970 - 31.12.2021\n7   12411-0008                                         Bevölkerung: Deutschland, Stichtag, Altersjahre,Nationalität, Geschlecht, Familienstand  31.12.1991 - 31.12.2021\n8   12411-0009                                               Bevölkerung: Deutschland, Stichtag, Geschlecht,Altersgruppen, Staatsangehörigkeit  31.12.2011 - 31.12.2021\n9   12411-0010                                                                                             Bevölkerung: Bundesländer, Stichtag  31.12.1958 - 31.12.2021\n10  12411-0011                                                                                 Bevölkerung: Bundesländer, Stichtag, Geschlecht  31.12.1967 - 31.12.2021\n11  12411-0012                                                                                Bevölkerung: Bundesländer, Stichtag, Altersjahre  31.12.1967 - 31.12.2021\n12  12411-0013                                                                    Bevölkerung: Bundesländer, Stichtag, Geschlecht, Altersjahre  31.12.1967 - 31.12.2021\n13  12411-0014                                                       Bevölkerung: Bundesländer, Stichtag, Nationalität,Geschlecht, Altersjahre  31.12.2000 - 31.12.2021\n14  12411-0015                                                                                                   Bevölkerung: Kreise, Stichtag  31.12.1995 - 31.12.2021\n15  12411-0016                                                                                       Bevölkerung: Kreise, Stichtag, Geschlecht  31.12.1995 - 31.12.2021\n16  12411-0017                                                                                    Bevölkerung: Kreise, Stichtag, Altersgruppen  31.12.1995 - 31.12.2021\n17  12411-0018                                                                        Bevölkerung: Kreise, Stichtag, Geschlecht, Altersgruppen  31.12.1995 - 31.12.2021\n18  12411-0020                                                                  Bevölkerung: Deutschland, Stichtag zum Quartalsende,Geschlecht  31.03.1991 - 31.03.2022\n19  12411-0021                                                                 Bevölkerung: Bundesländer, Stichtag zum Quartalsende,Geschlecht  31.03.1991 - 31.03.2022\n20  12411-0040                                                      Durchschnittliche Bevölkerung: Deutschland, Jahre,Nationalität, Geschlecht              2000 - 2021\n21  12411-0041                                         Durchschnittliche Bevölkerung: Deutschland, Jahre,Nationalität, Geschlecht, Altersjahre              2000 - 2021\n22  12411-0042                                                     Durchschnittliche Bevölkerung: Bundesländer, Jahre,Nationalität, Geschlecht              2000 - 2021\n23  12411-0050                                                                                      Bevölkerungsdichte: Bundesländer, Stichtag  31.12.1995 - 31.12.2020\n24  12421-0001                           Vorausberechneter Bevölkerungsstand: Deutschland, Stichtag,Varianten der Bevölkerungsvorausberechnung  31.12.2019 - 31.12.2060\n25  12421-0002   Vorausberechneter Bevölkerungsstand: Deutschland, Stichtag,Varianten der Bevölkerungsvorausberechnung, Geschlecht,Altersjahre  31.12.2019 - 31.12.2060\n26  12421-0003                          Vorausberechneter Bevölkerungsstand: Bundesländer, Stichtag,Varianten der Bevölkerungsvorausberechnung  31.12.2019 - 31.12.2060\n27  12421-0004  Vorausberechneter Bevölkerungsstand: Bundesländer, Stichtag,Varianten der Bevölkerungsvorausberechnung, Geschlecht,Altersjahre  31.12.2019 - 31.12.2060\n28  12421-0100                    Vorausberechnete Privathaushalte: Deutschland, Jahre,Varianten der Haushaltsvorausberechnung, Haushaltsgröße              2019 - 2040\n29  12421-0101                   Vorausberechnete Privathaushalte: Bundesländer, Jahre,Varianten der Haushaltsvorausberechnung, Haushaltsgröße              2019 - 2040",
      "text/html": "<div>\n<style scoped>\n    .dataframe tbody tr th:only-of-type {\n        vertical-align: middle;\n    }\n\n    .dataframe tbody tr th {\n        vertical-align: top;\n    }\n\n    .dataframe thead th {\n        text-align: right;\n    }\n</style>\n<table border=\"1\" class=\"dataframe\">\n  <thead>\n    <tr style=\"text-align: right;\">\n      <th></th>\n      <th>Code</th>\n      <th>Content</th>\n      <th>Time</th>\n    </tr>\n  </thead>\n  <tbody>\n    <tr>\n      <th>0</th>\n      <td>12411-0001</td>\n      <td>Bevölkerung: Deutschland, Stichtag</td>\n      <td>31.12.1950 - 31.12.2021</td>\n    </tr>\n    <tr>\n      <th>1</th>\n      <td>12411-0002</td>\n      <td>Bevölkerung: Deutschland, Stichtag, Nationalität</td>\n      <td>31.12.1970 - 31.12.2021</td>\n    </tr>\n    <tr>\n      <th>2</th>\n      <td>12411-0003</td>\n      <td>Bevölkerung: Deutschland, Stichtag, Geschlecht</td>\n      <td>31.12.1970 - 31.12.2021</td>\n    </tr>\n    <tr>\n      <th>3</th>\n      <td>12411-0004</td>\n      <td>Bevölkerung: Deutschland, Stichtag, Familienstand</td>\n      <td>31.12.1991 - 31.12.2021</td>\n    </tr>\n    <tr>\n      <th>4</th>\n      <td>12411-0005</td>\n      <td>Bevölkerung: Deutschland, Stichtag, Altersjahre</td>\n      <td>31.12.1970 - 31.12.2021</td>\n    </tr>\n    <tr>\n      <th>5</th>\n      <td>12411-0006</td>\n      <td>Bevölkerung: Deutschland, Stichtag, Altersjahre,Nationalität/Geschlecht/Familienstand</td>\n      <td>31.12.1970 - 31.12.2021</td>\n    </tr>\n    <tr>\n      <th>6</th>\n      <td>12411-0007</td>\n      <td>Bevölkerung: Deutschland, Stichtag, Altersjahre,Nationalität, Geschlecht/Familienstand</td>\n      <td>31.12.1970 - 31.12.2021</td>\n    </tr>\n    <tr>\n      <th>7</th>\n      <td>12411-0008</td>\n      <td>Bevölkerung: Deutschland, Stichtag, Altersjahre,Nationalität, Geschlecht, Familienstand</td>\n      <td>31.12.1991 - 31.12.2021</td>\n    </tr>\n    <tr>\n      <th>8</th>\n      <td>12411-0009</td>\n      <td>Bevölkerung: Deutschland, Stichtag, Geschlecht,Altersgruppen, Staatsangehörigkeit</td>\n      <td>31.12.2011 - 31.12.2021</td>\n    </tr>\n    <tr>\n      <th>9</th>\n      <td>12411-0010</td>\n      <td>Bevölkerung: Bundesländer, Stichtag</td>\n      <td>31.12.1958 - 31.12.2021</td>\n    </tr>\n    <tr>\n      <th>10</th>\n      <td>12411-0011</td>\n      <td>Bevölkerung: Bundesländer, Stichtag, Geschlecht</td>\n      <td>31.12.1967 - 31.12.2021</td>\n    </tr>\n    <tr>\n      <th>11</th>\n      <td>12411-0012</td>\n      <td>Bevölkerung: Bundesländer, Stichtag, Altersjahre</td>\n      <td>31.12.1967 - 31.12.2021</td>\n    </tr>\n    <tr>\n      <th>12</th>\n      <td>12411-0013</td>\n      <td>Bevölkerung: Bundesländer, Stichtag, Geschlecht, Altersjahre</td>\n      <td>31.12.1967 - 31.12.2021</td>\n    </tr>\n    <tr>\n      <th>13</th>\n      <td>12411-0014</td>\n      <td>Bevölkerung: Bundesländer, Stichtag, Nationalität,Geschlecht, Altersjahre</td>\n      <td>31.12.2000 - 31.12.2021</td>\n    </tr>\n    <tr>\n      <th>14</th>\n      <td>12411-0015</td>\n      <td>Bevölkerung: Kreise, Stichtag</td>\n      <td>31.12.1995 - 31.12.2021</td>\n    </tr>\n    <tr>\n      <th>15</th>\n      <td>12411-0016</td>\n      <td>Bevölkerung: Kreise, Stichtag, Geschlecht</td>\n      <td>31.12.1995 - 31.12.2021</td>\n    </tr>\n    <tr>\n      <th>16</th>\n      <td>12411-0017</td>\n      <td>Bevölkerung: Kreise, Stichtag, Altersgruppen</td>\n      <td>31.12.1995 - 31.12.2021</td>\n    </tr>\n    <tr>\n      <th>17</th>\n      <td>12411-0018</td>\n      <td>Bevölkerung: Kreise, Stichtag, Geschlecht, Altersgruppen</td>\n      <td>31.12.1995 - 31.12.2021</td>\n    </tr>\n    <tr>\n      <th>18</th>\n      <td>12411-0020</td>\n      <td>Bevölkerung: Deutschland, Stichtag zum Quartalsende,Geschlecht</td>\n      <td>31.03.1991 - 31.03.2022</td>\n    </tr>\n    <tr>\n      <th>19</th>\n      <td>12411-0021</td>\n      <td>Bevölkerung: Bundesländer, Stichtag zum Quartalsende,Geschlecht</td>\n      <td>31.03.1991 - 31.03.2022</td>\n    </tr>\n    <tr>\n      <th>20</th>\n      <td>12411-0040</td>\n      <td>Durchschnittliche Bevölkerung: Deutschland, Jahre,Nationalität, Geschlecht</td>\n      <td>2000 - 2021</td>\n    </tr>\n    <tr>\n      <th>21</th>\n      <td>12411-0041</td>\n      <td>Durchschnittliche Bevölkerung: Deutschland, Jahre,Nationalität, Geschlecht, Altersjahre</td>\n      <td>2000 - 2021</td>\n    </tr>\n    <tr>\n      <th>22</th>\n      <td>12411-0042</td>\n      <td>Durchschnittliche Bevölkerung: Bundesländer, Jahre,Nationalität, Geschlecht</td>\n      <td>2000 - 2021</td>\n    </tr>\n    <tr>\n      <th>23</th>\n      <td>12411-0050</td>\n      <td>Bevölkerungsdichte: Bundesländer, Stichtag</td>\n      <td>31.12.1995 - 31.12.2020</td>\n    </tr>\n    <tr>\n      <th>24</th>\n      <td>12421-0001</td>\n      <td>Vorausberechneter Bevölkerungsstand: Deutschland, Stichtag,Varianten der Bevölkerungsvorausberechnung</td>\n      <td>31.12.2019 - 31.12.2060</td>\n    </tr>\n    <tr>\n      <th>25</th>\n      <td>12421-0002</td>\n      <td>Vorausberechneter Bevölkerungsstand: Deutschland, Stichtag,Varianten der Bevölkerungsvorausberechnung, Geschlecht,Altersjahre</td>\n      <td>31.12.2019 - 31.12.2060</td>\n    </tr>\n    <tr>\n      <th>26</th>\n      <td>12421-0003</td>\n      <td>Vorausberechneter Bevölkerungsstand: Bundesländer, Stichtag,Varianten der Bevölkerungsvorausberechnung</td>\n      <td>31.12.2019 - 31.12.2060</td>\n    </tr>\n    <tr>\n      <th>27</th>\n      <td>12421-0004</td>\n      <td>Vorausberechneter Bevölkerungsstand: Bundesländer, Stichtag,Varianten der Bevölkerungsvorausberechnung, Geschlecht,Altersjahre</td>\n      <td>31.12.2019 - 31.12.2060</td>\n    </tr>\n    <tr>\n      <th>28</th>\n      <td>12421-0100</td>\n      <td>Vorausberechnete Privathaushalte: Deutschland, Jahre,Varianten der Haushaltsvorausberechnung, Haushaltsgröße</td>\n      <td>2019 - 2040</td>\n    </tr>\n    <tr>\n      <th>29</th>\n      <td>12421-0101</td>\n      <td>Vorausberechnete Privathaushalte: Bundesländer, Jahre,Varianten der Haushaltsvorausberechnung, Haushaltsgröße</td>\n      <td>2019 - 2040</td>\n    </tr>\n  </tbody>\n</table>\n</div>"
     },
     "execution_count": 26,
     "metadata": {},
     "output_type": "execute_result"
    }
   ],
   "source": [
    "table_result.catalogue"
   ],
   "metadata": {
    "collapsed": false,
    "pycharm": {
     "name": "#%%\n"
    }
   }
  },
  {
   "cell_type": "code",
   "execution_count": null,
   "outputs": [],
   "source": [
    "\n"
   ],
   "metadata": {
    "collapsed": false,
    "pycharm": {
     "name": "#%%\n"
    }
   }
  }
 ],
 "metadata": {
  "kernelspec": {
   "name": "pycharm-9238bc6b",
   "language": "python",
   "display_name": "PyCharm (genesis-python)"
  },
  "language_info": {
   "codemirror_mode": {
    "name": "ipython",
    "version": 3
   },
   "file_extension": ".py",
   "mimetype": "text/x-python",
   "name": "python",
   "nbconvert_exporter": "python",
   "pygments_lexer": "ipython3",
   "version": "3.9.7"
  },
  "vscode": {
   "interpreter": {
    "hash": "ee0113c470e2ab03fd08da308faad6cb3acef2959a5a1adc44423161e2606732"
   }
  }
 },
 "nbformat": 4,
 "nbformat_minor": 2
}
