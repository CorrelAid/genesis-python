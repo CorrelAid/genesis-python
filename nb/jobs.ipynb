{
 "cells": [
  {
   "cell_type": "markdown",
   "metadata": {
    "collapsed": false,
    "pycharm": {
     "name": "#%% md\n"
    }
   },
   "source": [
    "# Notizbuch für den 'data' Endpunkt & Spezifikation von 'job=true'\n",
    "Initial ist 'job=false' gesetzt, daher muss dieser Parameter bei der Abfrage eins zu großen Datensatzes angepasst werden.\n",
    "Der User erhält über einen Input die Möglichkeit, den Job anzustoßen.\n",
    "Dessen Status wird über den catalogue/jobs Endpunkt überprüft.\n",
    "Final wird das gecachte resultfile ausgegeben."
   ]
  },
  {
   "cell_type": "code",
   "execution_count": 1,
   "outputs": [],
   "source": [
    "import logging\n",
    "from pygenesis.http_helper import get_data_from_endpoint"
   ],
   "metadata": {
    "collapsed": false,
    "pycharm": {
     "name": "#%%\n"
    }
   }
  },
  {
   "cell_type": "code",
   "execution_count": 2,
   "outputs": [
    {
     "ename": "ReadTimeout",
     "evalue": "HTTPSConnectionPool(host='www-genesis.destatis.de', port=443): Read timed out. (read timeout=15)",
     "output_type": "error",
     "traceback": [
      "\u001B[0;31m---------------------------------------------------------------------------\u001B[0m",
      "\u001B[0;31mtimeout\u001B[0m                                   Traceback (most recent call last)",
      "File \u001B[0;32m~/Library/Caches/pypoetry/virtualenvs/pygenesis-aPsOvLpD-py3.9/lib/python3.9/site-packages/urllib3/connectionpool.py:449\u001B[0m, in \u001B[0;36mHTTPConnectionPool._make_request\u001B[0;34m(self, conn, method, url, timeout, chunked, **httplib_request_kw)\u001B[0m\n\u001B[1;32m    445\u001B[0m         \u001B[38;5;28;01mexcept\u001B[39;00m \u001B[38;5;167;01mBaseException\u001B[39;00m \u001B[38;5;28;01mas\u001B[39;00m e:\n\u001B[1;32m    446\u001B[0m             \u001B[38;5;66;03m# Remove the TypeError from the exception chain in\u001B[39;00m\n\u001B[1;32m    447\u001B[0m             \u001B[38;5;66;03m# Python 3 (including for exceptions like SystemExit).\u001B[39;00m\n\u001B[1;32m    448\u001B[0m             \u001B[38;5;66;03m# Otherwise it looks like a bug in the code.\u001B[39;00m\n\u001B[0;32m--> 449\u001B[0m             \u001B[43msix\u001B[49m\u001B[38;5;241;43m.\u001B[39;49m\u001B[43mraise_from\u001B[49m\u001B[43m(\u001B[49m\u001B[43me\u001B[49m\u001B[43m,\u001B[49m\u001B[43m \u001B[49m\u001B[38;5;28;43;01mNone\u001B[39;49;00m\u001B[43m)\u001B[49m\n\u001B[1;32m    450\u001B[0m \u001B[38;5;28;01mexcept\u001B[39;00m (SocketTimeout, BaseSSLError, SocketError) \u001B[38;5;28;01mas\u001B[39;00m e:\n",
      "File \u001B[0;32m<string>:3\u001B[0m, in \u001B[0;36mraise_from\u001B[0;34m(value, from_value)\u001B[0m\n",
      "File \u001B[0;32m~/Library/Caches/pypoetry/virtualenvs/pygenesis-aPsOvLpD-py3.9/lib/python3.9/site-packages/urllib3/connectionpool.py:444\u001B[0m, in \u001B[0;36mHTTPConnectionPool._make_request\u001B[0;34m(self, conn, method, url, timeout, chunked, **httplib_request_kw)\u001B[0m\n\u001B[1;32m    443\u001B[0m \u001B[38;5;28;01mtry\u001B[39;00m:\n\u001B[0;32m--> 444\u001B[0m     httplib_response \u001B[38;5;241m=\u001B[39m \u001B[43mconn\u001B[49m\u001B[38;5;241;43m.\u001B[39;49m\u001B[43mgetresponse\u001B[49m\u001B[43m(\u001B[49m\u001B[43m)\u001B[49m\n\u001B[1;32m    445\u001B[0m \u001B[38;5;28;01mexcept\u001B[39;00m \u001B[38;5;167;01mBaseException\u001B[39;00m \u001B[38;5;28;01mas\u001B[39;00m e:\n\u001B[1;32m    446\u001B[0m     \u001B[38;5;66;03m# Remove the TypeError from the exception chain in\u001B[39;00m\n\u001B[1;32m    447\u001B[0m     \u001B[38;5;66;03m# Python 3 (including for exceptions like SystemExit).\u001B[39;00m\n\u001B[1;32m    448\u001B[0m     \u001B[38;5;66;03m# Otherwise it looks like a bug in the code.\u001B[39;00m\n",
      "File \u001B[0;32m/opt/homebrew/Cellar/python@3.9/3.9.13_3/Frameworks/Python.framework/Versions/3.9/lib/python3.9/http/client.py:1377\u001B[0m, in \u001B[0;36mHTTPConnection.getresponse\u001B[0;34m(self)\u001B[0m\n\u001B[1;32m   1376\u001B[0m \u001B[38;5;28;01mtry\u001B[39;00m:\n\u001B[0;32m-> 1377\u001B[0m     \u001B[43mresponse\u001B[49m\u001B[38;5;241;43m.\u001B[39;49m\u001B[43mbegin\u001B[49m\u001B[43m(\u001B[49m\u001B[43m)\u001B[49m\n\u001B[1;32m   1378\u001B[0m \u001B[38;5;28;01mexcept\u001B[39;00m \u001B[38;5;167;01mConnectionError\u001B[39;00m:\n",
      "File \u001B[0;32m/opt/homebrew/Cellar/python@3.9/3.9.13_3/Frameworks/Python.framework/Versions/3.9/lib/python3.9/http/client.py:320\u001B[0m, in \u001B[0;36mHTTPResponse.begin\u001B[0;34m(self)\u001B[0m\n\u001B[1;32m    319\u001B[0m \u001B[38;5;28;01mwhile\u001B[39;00m \u001B[38;5;28;01mTrue\u001B[39;00m:\n\u001B[0;32m--> 320\u001B[0m     version, status, reason \u001B[38;5;241m=\u001B[39m \u001B[38;5;28;43mself\u001B[39;49m\u001B[38;5;241;43m.\u001B[39;49m\u001B[43m_read_status\u001B[49m\u001B[43m(\u001B[49m\u001B[43m)\u001B[49m\n\u001B[1;32m    321\u001B[0m     \u001B[38;5;28;01mif\u001B[39;00m status \u001B[38;5;241m!=\u001B[39m CONTINUE:\n",
      "File \u001B[0;32m/opt/homebrew/Cellar/python@3.9/3.9.13_3/Frameworks/Python.framework/Versions/3.9/lib/python3.9/http/client.py:281\u001B[0m, in \u001B[0;36mHTTPResponse._read_status\u001B[0;34m(self)\u001B[0m\n\u001B[1;32m    280\u001B[0m \u001B[38;5;28;01mdef\u001B[39;00m \u001B[38;5;21m_read_status\u001B[39m(\u001B[38;5;28mself\u001B[39m):\n\u001B[0;32m--> 281\u001B[0m     line \u001B[38;5;241m=\u001B[39m \u001B[38;5;28mstr\u001B[39m(\u001B[38;5;28;43mself\u001B[39;49m\u001B[38;5;241;43m.\u001B[39;49m\u001B[43mfp\u001B[49m\u001B[38;5;241;43m.\u001B[39;49m\u001B[43mreadline\u001B[49m\u001B[43m(\u001B[49m\u001B[43m_MAXLINE\u001B[49m\u001B[43m \u001B[49m\u001B[38;5;241;43m+\u001B[39;49m\u001B[43m \u001B[49m\u001B[38;5;241;43m1\u001B[39;49m\u001B[43m)\u001B[49m, \u001B[38;5;124m\"\u001B[39m\u001B[38;5;124miso-8859-1\u001B[39m\u001B[38;5;124m\"\u001B[39m)\n\u001B[1;32m    282\u001B[0m     \u001B[38;5;28;01mif\u001B[39;00m \u001B[38;5;28mlen\u001B[39m(line) \u001B[38;5;241m>\u001B[39m _MAXLINE:\n",
      "File \u001B[0;32m/opt/homebrew/Cellar/python@3.9/3.9.13_3/Frameworks/Python.framework/Versions/3.9/lib/python3.9/socket.py:704\u001B[0m, in \u001B[0;36mSocketIO.readinto\u001B[0;34m(self, b)\u001B[0m\n\u001B[1;32m    703\u001B[0m \u001B[38;5;28;01mtry\u001B[39;00m:\n\u001B[0;32m--> 704\u001B[0m     \u001B[38;5;28;01mreturn\u001B[39;00m \u001B[38;5;28;43mself\u001B[39;49m\u001B[38;5;241;43m.\u001B[39;49m\u001B[43m_sock\u001B[49m\u001B[38;5;241;43m.\u001B[39;49m\u001B[43mrecv_into\u001B[49m\u001B[43m(\u001B[49m\u001B[43mb\u001B[49m\u001B[43m)\u001B[49m\n\u001B[1;32m    705\u001B[0m \u001B[38;5;28;01mexcept\u001B[39;00m timeout:\n",
      "File \u001B[0;32m/opt/homebrew/Cellar/python@3.9/3.9.13_3/Frameworks/Python.framework/Versions/3.9/lib/python3.9/ssl.py:1242\u001B[0m, in \u001B[0;36mSSLSocket.recv_into\u001B[0;34m(self, buffer, nbytes, flags)\u001B[0m\n\u001B[1;32m   1239\u001B[0m         \u001B[38;5;28;01mraise\u001B[39;00m \u001B[38;5;167;01mValueError\u001B[39;00m(\n\u001B[1;32m   1240\u001B[0m           \u001B[38;5;124m\"\u001B[39m\u001B[38;5;124mnon-zero flags not allowed in calls to recv_into() on \u001B[39m\u001B[38;5;132;01m%s\u001B[39;00m\u001B[38;5;124m\"\u001B[39m \u001B[38;5;241m%\u001B[39m\n\u001B[1;32m   1241\u001B[0m           \u001B[38;5;28mself\u001B[39m\u001B[38;5;241m.\u001B[39m\u001B[38;5;18m__class__\u001B[39m)\n\u001B[0;32m-> 1242\u001B[0m     \u001B[38;5;28;01mreturn\u001B[39;00m \u001B[38;5;28;43mself\u001B[39;49m\u001B[38;5;241;43m.\u001B[39;49m\u001B[43mread\u001B[49m\u001B[43m(\u001B[49m\u001B[43mnbytes\u001B[49m\u001B[43m,\u001B[49m\u001B[43m \u001B[49m\u001B[43mbuffer\u001B[49m\u001B[43m)\u001B[49m\n\u001B[1;32m   1243\u001B[0m \u001B[38;5;28;01melse\u001B[39;00m:\n",
      "File \u001B[0;32m/opt/homebrew/Cellar/python@3.9/3.9.13_3/Frameworks/Python.framework/Versions/3.9/lib/python3.9/ssl.py:1100\u001B[0m, in \u001B[0;36mSSLSocket.read\u001B[0;34m(self, len, buffer)\u001B[0m\n\u001B[1;32m   1099\u001B[0m \u001B[38;5;28;01mif\u001B[39;00m buffer \u001B[38;5;129;01mis\u001B[39;00m \u001B[38;5;129;01mnot\u001B[39;00m \u001B[38;5;28;01mNone\u001B[39;00m:\n\u001B[0;32m-> 1100\u001B[0m     \u001B[38;5;28;01mreturn\u001B[39;00m \u001B[38;5;28;43mself\u001B[39;49m\u001B[38;5;241;43m.\u001B[39;49m\u001B[43m_sslobj\u001B[49m\u001B[38;5;241;43m.\u001B[39;49m\u001B[43mread\u001B[49m\u001B[43m(\u001B[49m\u001B[38;5;28;43mlen\u001B[39;49m\u001B[43m,\u001B[49m\u001B[43m \u001B[49m\u001B[43mbuffer\u001B[49m\u001B[43m)\u001B[49m\n\u001B[1;32m   1101\u001B[0m \u001B[38;5;28;01melse\u001B[39;00m:\n",
      "\u001B[0;31mtimeout\u001B[0m: The read operation timed out",
      "\nDuring handling of the above exception, another exception occurred:\n",
      "\u001B[0;31mReadTimeoutError\u001B[0m                          Traceback (most recent call last)",
      "File \u001B[0;32m~/Library/Caches/pypoetry/virtualenvs/pygenesis-aPsOvLpD-py3.9/lib/python3.9/site-packages/requests/adapters.py:489\u001B[0m, in \u001B[0;36mHTTPAdapter.send\u001B[0;34m(self, request, stream, timeout, verify, cert, proxies)\u001B[0m\n\u001B[1;32m    488\u001B[0m \u001B[38;5;28;01mif\u001B[39;00m \u001B[38;5;129;01mnot\u001B[39;00m chunked:\n\u001B[0;32m--> 489\u001B[0m     resp \u001B[38;5;241m=\u001B[39m \u001B[43mconn\u001B[49m\u001B[38;5;241;43m.\u001B[39;49m\u001B[43murlopen\u001B[49m\u001B[43m(\u001B[49m\n\u001B[1;32m    490\u001B[0m \u001B[43m        \u001B[49m\u001B[43mmethod\u001B[49m\u001B[38;5;241;43m=\u001B[39;49m\u001B[43mrequest\u001B[49m\u001B[38;5;241;43m.\u001B[39;49m\u001B[43mmethod\u001B[49m\u001B[43m,\u001B[49m\n\u001B[1;32m    491\u001B[0m \u001B[43m        \u001B[49m\u001B[43murl\u001B[49m\u001B[38;5;241;43m=\u001B[39;49m\u001B[43murl\u001B[49m\u001B[43m,\u001B[49m\n\u001B[1;32m    492\u001B[0m \u001B[43m        \u001B[49m\u001B[43mbody\u001B[49m\u001B[38;5;241;43m=\u001B[39;49m\u001B[43mrequest\u001B[49m\u001B[38;5;241;43m.\u001B[39;49m\u001B[43mbody\u001B[49m\u001B[43m,\u001B[49m\n\u001B[1;32m    493\u001B[0m \u001B[43m        \u001B[49m\u001B[43mheaders\u001B[49m\u001B[38;5;241;43m=\u001B[39;49m\u001B[43mrequest\u001B[49m\u001B[38;5;241;43m.\u001B[39;49m\u001B[43mheaders\u001B[49m\u001B[43m,\u001B[49m\n\u001B[1;32m    494\u001B[0m \u001B[43m        \u001B[49m\u001B[43mredirect\u001B[49m\u001B[38;5;241;43m=\u001B[39;49m\u001B[38;5;28;43;01mFalse\u001B[39;49;00m\u001B[43m,\u001B[49m\n\u001B[1;32m    495\u001B[0m \u001B[43m        \u001B[49m\u001B[43massert_same_host\u001B[49m\u001B[38;5;241;43m=\u001B[39;49m\u001B[38;5;28;43;01mFalse\u001B[39;49;00m\u001B[43m,\u001B[49m\n\u001B[1;32m    496\u001B[0m \u001B[43m        \u001B[49m\u001B[43mpreload_content\u001B[49m\u001B[38;5;241;43m=\u001B[39;49m\u001B[38;5;28;43;01mFalse\u001B[39;49;00m\u001B[43m,\u001B[49m\n\u001B[1;32m    497\u001B[0m \u001B[43m        \u001B[49m\u001B[43mdecode_content\u001B[49m\u001B[38;5;241;43m=\u001B[39;49m\u001B[38;5;28;43;01mFalse\u001B[39;49;00m\u001B[43m,\u001B[49m\n\u001B[1;32m    498\u001B[0m \u001B[43m        \u001B[49m\u001B[43mretries\u001B[49m\u001B[38;5;241;43m=\u001B[39;49m\u001B[38;5;28;43mself\u001B[39;49m\u001B[38;5;241;43m.\u001B[39;49m\u001B[43mmax_retries\u001B[49m\u001B[43m,\u001B[49m\n\u001B[1;32m    499\u001B[0m \u001B[43m        \u001B[49m\u001B[43mtimeout\u001B[49m\u001B[38;5;241;43m=\u001B[39;49m\u001B[43mtimeout\u001B[49m\u001B[43m,\u001B[49m\n\u001B[1;32m    500\u001B[0m \u001B[43m    \u001B[49m\u001B[43m)\u001B[49m\n\u001B[1;32m    502\u001B[0m \u001B[38;5;66;03m# Send the request.\u001B[39;00m\n\u001B[1;32m    503\u001B[0m \u001B[38;5;28;01melse\u001B[39;00m:\n",
      "File \u001B[0;32m~/Library/Caches/pypoetry/virtualenvs/pygenesis-aPsOvLpD-py3.9/lib/python3.9/site-packages/urllib3/connectionpool.py:787\u001B[0m, in \u001B[0;36mHTTPConnectionPool.urlopen\u001B[0;34m(self, method, url, body, headers, retries, redirect, assert_same_host, timeout, pool_timeout, release_conn, chunked, body_pos, **response_kw)\u001B[0m\n\u001B[1;32m    785\u001B[0m     e \u001B[38;5;241m=\u001B[39m ProtocolError(\u001B[38;5;124m\"\u001B[39m\u001B[38;5;124mConnection aborted.\u001B[39m\u001B[38;5;124m\"\u001B[39m, e)\n\u001B[0;32m--> 787\u001B[0m retries \u001B[38;5;241m=\u001B[39m \u001B[43mretries\u001B[49m\u001B[38;5;241;43m.\u001B[39;49m\u001B[43mincrement\u001B[49m\u001B[43m(\u001B[49m\n\u001B[1;32m    788\u001B[0m \u001B[43m    \u001B[49m\u001B[43mmethod\u001B[49m\u001B[43m,\u001B[49m\u001B[43m \u001B[49m\u001B[43murl\u001B[49m\u001B[43m,\u001B[49m\u001B[43m \u001B[49m\u001B[43merror\u001B[49m\u001B[38;5;241;43m=\u001B[39;49m\u001B[43me\u001B[49m\u001B[43m,\u001B[49m\u001B[43m \u001B[49m\u001B[43m_pool\u001B[49m\u001B[38;5;241;43m=\u001B[39;49m\u001B[38;5;28;43mself\u001B[39;49m\u001B[43m,\u001B[49m\u001B[43m \u001B[49m\u001B[43m_stacktrace\u001B[49m\u001B[38;5;241;43m=\u001B[39;49m\u001B[43msys\u001B[49m\u001B[38;5;241;43m.\u001B[39;49m\u001B[43mexc_info\u001B[49m\u001B[43m(\u001B[49m\u001B[43m)\u001B[49m\u001B[43m[\u001B[49m\u001B[38;5;241;43m2\u001B[39;49m\u001B[43m]\u001B[49m\n\u001B[1;32m    789\u001B[0m \u001B[43m\u001B[49m\u001B[43m)\u001B[49m\n\u001B[1;32m    790\u001B[0m retries\u001B[38;5;241m.\u001B[39msleep()\n",
      "File \u001B[0;32m~/Library/Caches/pypoetry/virtualenvs/pygenesis-aPsOvLpD-py3.9/lib/python3.9/site-packages/urllib3/util/retry.py:550\u001B[0m, in \u001B[0;36mRetry.increment\u001B[0;34m(self, method, url, response, error, _pool, _stacktrace)\u001B[0m\n\u001B[1;32m    549\u001B[0m \u001B[38;5;28;01mif\u001B[39;00m read \u001B[38;5;129;01mis\u001B[39;00m \u001B[38;5;28;01mFalse\u001B[39;00m \u001B[38;5;129;01mor\u001B[39;00m \u001B[38;5;129;01mnot\u001B[39;00m \u001B[38;5;28mself\u001B[39m\u001B[38;5;241m.\u001B[39m_is_method_retryable(method):\n\u001B[0;32m--> 550\u001B[0m     \u001B[38;5;28;01mraise\u001B[39;00m \u001B[43msix\u001B[49m\u001B[38;5;241;43m.\u001B[39;49m\u001B[43mreraise\u001B[49m\u001B[43m(\u001B[49m\u001B[38;5;28;43mtype\u001B[39;49m\u001B[43m(\u001B[49m\u001B[43merror\u001B[49m\u001B[43m)\u001B[49m\u001B[43m,\u001B[49m\u001B[43m \u001B[49m\u001B[43merror\u001B[49m\u001B[43m,\u001B[49m\u001B[43m \u001B[49m\u001B[43m_stacktrace\u001B[49m\u001B[43m)\u001B[49m\n\u001B[1;32m    551\u001B[0m \u001B[38;5;28;01melif\u001B[39;00m read \u001B[38;5;129;01mis\u001B[39;00m \u001B[38;5;129;01mnot\u001B[39;00m \u001B[38;5;28;01mNone\u001B[39;00m:\n",
      "File \u001B[0;32m~/Library/Caches/pypoetry/virtualenvs/pygenesis-aPsOvLpD-py3.9/lib/python3.9/site-packages/urllib3/packages/six.py:770\u001B[0m, in \u001B[0;36mreraise\u001B[0;34m(tp, value, tb)\u001B[0m\n\u001B[1;32m    769\u001B[0m         \u001B[38;5;28;01mraise\u001B[39;00m value\u001B[38;5;241m.\u001B[39mwith_traceback(tb)\n\u001B[0;32m--> 770\u001B[0m     \u001B[38;5;28;01mraise\u001B[39;00m value\n\u001B[1;32m    771\u001B[0m \u001B[38;5;28;01mfinally\u001B[39;00m:\n",
      "File \u001B[0;32m~/Library/Caches/pypoetry/virtualenvs/pygenesis-aPsOvLpD-py3.9/lib/python3.9/site-packages/urllib3/connectionpool.py:703\u001B[0m, in \u001B[0;36mHTTPConnectionPool.urlopen\u001B[0;34m(self, method, url, body, headers, retries, redirect, assert_same_host, timeout, pool_timeout, release_conn, chunked, body_pos, **response_kw)\u001B[0m\n\u001B[1;32m    702\u001B[0m \u001B[38;5;66;03m# Make the request on the httplib connection object.\u001B[39;00m\n\u001B[0;32m--> 703\u001B[0m httplib_response \u001B[38;5;241m=\u001B[39m \u001B[38;5;28;43mself\u001B[39;49m\u001B[38;5;241;43m.\u001B[39;49m\u001B[43m_make_request\u001B[49m\u001B[43m(\u001B[49m\n\u001B[1;32m    704\u001B[0m \u001B[43m    \u001B[49m\u001B[43mconn\u001B[49m\u001B[43m,\u001B[49m\n\u001B[1;32m    705\u001B[0m \u001B[43m    \u001B[49m\u001B[43mmethod\u001B[49m\u001B[43m,\u001B[49m\n\u001B[1;32m    706\u001B[0m \u001B[43m    \u001B[49m\u001B[43murl\u001B[49m\u001B[43m,\u001B[49m\n\u001B[1;32m    707\u001B[0m \u001B[43m    \u001B[49m\u001B[43mtimeout\u001B[49m\u001B[38;5;241;43m=\u001B[39;49m\u001B[43mtimeout_obj\u001B[49m\u001B[43m,\u001B[49m\n\u001B[1;32m    708\u001B[0m \u001B[43m    \u001B[49m\u001B[43mbody\u001B[49m\u001B[38;5;241;43m=\u001B[39;49m\u001B[43mbody\u001B[49m\u001B[43m,\u001B[49m\n\u001B[1;32m    709\u001B[0m \u001B[43m    \u001B[49m\u001B[43mheaders\u001B[49m\u001B[38;5;241;43m=\u001B[39;49m\u001B[43mheaders\u001B[49m\u001B[43m,\u001B[49m\n\u001B[1;32m    710\u001B[0m \u001B[43m    \u001B[49m\u001B[43mchunked\u001B[49m\u001B[38;5;241;43m=\u001B[39;49m\u001B[43mchunked\u001B[49m\u001B[43m,\u001B[49m\n\u001B[1;32m    711\u001B[0m \u001B[43m\u001B[49m\u001B[43m)\u001B[49m\n\u001B[1;32m    713\u001B[0m \u001B[38;5;66;03m# If we're going to release the connection in ``finally:``, then\u001B[39;00m\n\u001B[1;32m    714\u001B[0m \u001B[38;5;66;03m# the response doesn't need to know about the connection. Otherwise\u001B[39;00m\n\u001B[1;32m    715\u001B[0m \u001B[38;5;66;03m# it will also try to release it and we'll have a double-release\u001B[39;00m\n\u001B[1;32m    716\u001B[0m \u001B[38;5;66;03m# mess.\u001B[39;00m\n",
      "File \u001B[0;32m~/Library/Caches/pypoetry/virtualenvs/pygenesis-aPsOvLpD-py3.9/lib/python3.9/site-packages/urllib3/connectionpool.py:451\u001B[0m, in \u001B[0;36mHTTPConnectionPool._make_request\u001B[0;34m(self, conn, method, url, timeout, chunked, **httplib_request_kw)\u001B[0m\n\u001B[1;32m    450\u001B[0m \u001B[38;5;28;01mexcept\u001B[39;00m (SocketTimeout, BaseSSLError, SocketError) \u001B[38;5;28;01mas\u001B[39;00m e:\n\u001B[0;32m--> 451\u001B[0m     \u001B[38;5;28;43mself\u001B[39;49m\u001B[38;5;241;43m.\u001B[39;49m\u001B[43m_raise_timeout\u001B[49m\u001B[43m(\u001B[49m\u001B[43merr\u001B[49m\u001B[38;5;241;43m=\u001B[39;49m\u001B[43me\u001B[49m\u001B[43m,\u001B[49m\u001B[43m \u001B[49m\u001B[43murl\u001B[49m\u001B[38;5;241;43m=\u001B[39;49m\u001B[43murl\u001B[49m\u001B[43m,\u001B[49m\u001B[43m \u001B[49m\u001B[43mtimeout_value\u001B[49m\u001B[38;5;241;43m=\u001B[39;49m\u001B[43mread_timeout\u001B[49m\u001B[43m)\u001B[49m\n\u001B[1;32m    452\u001B[0m     \u001B[38;5;28;01mraise\u001B[39;00m\n",
      "File \u001B[0;32m~/Library/Caches/pypoetry/virtualenvs/pygenesis-aPsOvLpD-py3.9/lib/python3.9/site-packages/urllib3/connectionpool.py:340\u001B[0m, in \u001B[0;36mHTTPConnectionPool._raise_timeout\u001B[0;34m(self, err, url, timeout_value)\u001B[0m\n\u001B[1;32m    339\u001B[0m \u001B[38;5;28;01mif\u001B[39;00m \u001B[38;5;28misinstance\u001B[39m(err, SocketTimeout):\n\u001B[0;32m--> 340\u001B[0m     \u001B[38;5;28;01mraise\u001B[39;00m ReadTimeoutError(\n\u001B[1;32m    341\u001B[0m         \u001B[38;5;28mself\u001B[39m, url, \u001B[38;5;124m\"\u001B[39m\u001B[38;5;124mRead timed out. (read timeout=\u001B[39m\u001B[38;5;132;01m%s\u001B[39;00m\u001B[38;5;124m)\u001B[39m\u001B[38;5;124m\"\u001B[39m \u001B[38;5;241m%\u001B[39m timeout_value\n\u001B[1;32m    342\u001B[0m     )\n\u001B[1;32m    344\u001B[0m \u001B[38;5;66;03m# See the above comment about EAGAIN in Python 3. In Python 2 we have\u001B[39;00m\n\u001B[1;32m    345\u001B[0m \u001B[38;5;66;03m# to specifically catch it and throw the timeout error\u001B[39;00m\n",
      "\u001B[0;31mReadTimeoutError\u001B[0m: HTTPSConnectionPool(host='www-genesis.destatis.de', port=443): Read timed out. (read timeout=15)",
      "\nDuring handling of the above exception, another exception occurred:\n",
      "\u001B[0;31mReadTimeout\u001B[0m                               Traceback (most recent call last)",
      "Input \u001B[0;32mIn [2]\u001B[0m, in \u001B[0;36m<cell line: 11>\u001B[0;34m()\u001B[0m\n\u001B[1;32m      5\u001B[0m method \u001B[38;5;241m=\u001B[39m \u001B[38;5;124m'\u001B[39m\u001B[38;5;124mtablefile\u001B[39m\u001B[38;5;124m'\u001B[39m\n\u001B[1;32m      6\u001B[0m params \u001B[38;5;241m=\u001B[39m {\u001B[38;5;124m'\u001B[39m\u001B[38;5;124mname\u001B[39m\u001B[38;5;124m'\u001B[39m:\u001B[38;5;124m'\u001B[39m\u001B[38;5;124m42151-0001\u001B[39m\u001B[38;5;124m'\u001B[39m,\n\u001B[1;32m      7\u001B[0m           \u001B[38;5;124m'\u001B[39m\u001B[38;5;124marea\u001B[39m\u001B[38;5;124m'\u001B[39m:\u001B[38;5;124m'\u001B[39m\u001B[38;5;124mall\u001B[39m\u001B[38;5;124m'\u001B[39m,\n\u001B[1;32m      8\u001B[0m           \u001B[38;5;124m'\u001B[39m\u001B[38;5;124mtimeslices\u001B[39m\u001B[38;5;124m'\u001B[39m:\u001B[38;5;241m20\u001B[39m,\n\u001B[1;32m      9\u001B[0m           \u001B[38;5;124m'\u001B[39m\u001B[38;5;124mjob\u001B[39m\u001B[38;5;124m'\u001B[39m:\u001B[38;5;124m'\u001B[39m\u001B[38;5;124mfalse\u001B[39m\u001B[38;5;124m'\u001B[39m,\n\u001B[1;32m     10\u001B[0m           \u001B[38;5;124m'\u001B[39m\u001B[38;5;124mlanguage\u001B[39m\u001B[38;5;124m'\u001B[39m:\u001B[38;5;124m'\u001B[39m\u001B[38;5;124mde\u001B[39m\u001B[38;5;124m'\u001B[39m,}\n\u001B[0;32m---> 11\u001B[0m response \u001B[38;5;241m=\u001B[39m \u001B[43mget_data_from_endpoint\u001B[49m\u001B[43m(\u001B[49m\u001B[43mendpoint\u001B[49m\u001B[38;5;241;43m=\u001B[39;49m\u001B[43mendpoint\u001B[49m\u001B[43m,\u001B[49m\u001B[43m \u001B[49m\u001B[43mmethod\u001B[49m\u001B[38;5;241;43m=\u001B[39;49m\u001B[43mmethod\u001B[49m\u001B[43m,\u001B[49m\u001B[43m \u001B[49m\u001B[43mparams\u001B[49m\u001B[38;5;241;43m=\u001B[39;49m\u001B[43mparams\u001B[49m\u001B[43m)\u001B[49m\n",
      "File \u001B[0;32m~/coding_projects/Genesis-Python-API/genesis-python/src/pygenesis/http_helper.py:78\u001B[0m, in \u001B[0;36mget_data_from_endpoint\u001B[0;34m(endpoint, method, params)\u001B[0m\n\u001B[1;32m     70\u001B[0m params_ \u001B[38;5;241m=\u001B[39m params\u001B[38;5;241m.\u001B[39mcopy()\n\u001B[1;32m     71\u001B[0m params_\u001B[38;5;241m.\u001B[39mupdate(\n\u001B[1;32m     72\u001B[0m     {\n\u001B[1;32m     73\u001B[0m         \u001B[38;5;124m\"\u001B[39m\u001B[38;5;124musername\u001B[39m\u001B[38;5;124m\"\u001B[39m: config[\u001B[38;5;124m\"\u001B[39m\u001B[38;5;124mGENESIS API\u001B[39m\u001B[38;5;124m\"\u001B[39m][\u001B[38;5;124m\"\u001B[39m\u001B[38;5;124musername\u001B[39m\u001B[38;5;124m\"\u001B[39m],\n\u001B[1;32m     74\u001B[0m         \u001B[38;5;124m\"\u001B[39m\u001B[38;5;124mpassword\u001B[39m\u001B[38;5;124m\"\u001B[39m: config[\u001B[38;5;124m\"\u001B[39m\u001B[38;5;124mGENESIS API\u001B[39m\u001B[38;5;124m\"\u001B[39m][\u001B[38;5;124m\"\u001B[39m\u001B[38;5;124mpassword\u001B[39m\u001B[38;5;124m\"\u001B[39m],\n\u001B[1;32m     75\u001B[0m     }\n\u001B[1;32m     76\u001B[0m )\n\u001B[0;32m---> 78\u001B[0m response \u001B[38;5;241m=\u001B[39m \u001B[43mrequests\u001B[49m\u001B[38;5;241;43m.\u001B[39;49m\u001B[43mget\u001B[49m\u001B[43m(\u001B[49m\u001B[43murl\u001B[49m\u001B[43m,\u001B[49m\u001B[43m \u001B[49m\u001B[43mparams\u001B[49m\u001B[38;5;241;43m=\u001B[39;49m\u001B[43mparams_\u001B[49m\u001B[43m,\u001B[49m\u001B[43m \u001B[49m\u001B[43mtimeout\u001B[49m\u001B[38;5;241;43m=\u001B[39;49m\u001B[43m(\u001B[49m\u001B[38;5;241;43m5\u001B[39;49m\u001B[43m,\u001B[49m\u001B[43m \u001B[49m\u001B[38;5;241;43m15\u001B[39;49m\u001B[43m)\u001B[49m\u001B[43m)\u001B[49m\n\u001B[1;32m     80\u001B[0m \u001B[38;5;66;03m# if the response requires starting a job, the user is prompted to decide\u001B[39;00m\n\u001B[1;32m     81\u001B[0m \u001B[38;5;28;01mtry\u001B[39;00m:\n\u001B[1;32m     82\u001B[0m     \u001B[38;5;66;03m# test for job-relevant status code\u001B[39;00m\n",
      "File \u001B[0;32m~/Library/Caches/pypoetry/virtualenvs/pygenesis-aPsOvLpD-py3.9/lib/python3.9/site-packages/requests/api.py:73\u001B[0m, in \u001B[0;36mget\u001B[0;34m(url, params, **kwargs)\u001B[0m\n\u001B[1;32m     62\u001B[0m \u001B[38;5;28;01mdef\u001B[39;00m \u001B[38;5;21mget\u001B[39m(url, params\u001B[38;5;241m=\u001B[39m\u001B[38;5;28;01mNone\u001B[39;00m, \u001B[38;5;241m*\u001B[39m\u001B[38;5;241m*\u001B[39mkwargs):\n\u001B[1;32m     63\u001B[0m     \u001B[38;5;124mr\u001B[39m\u001B[38;5;124;03m\"\"\"Sends a GET request.\u001B[39;00m\n\u001B[1;32m     64\u001B[0m \n\u001B[1;32m     65\u001B[0m \u001B[38;5;124;03m    :param url: URL for the new :class:`Request` object.\u001B[39;00m\n\u001B[0;32m   (...)\u001B[0m\n\u001B[1;32m     70\u001B[0m \u001B[38;5;124;03m    :rtype: requests.Response\u001B[39;00m\n\u001B[1;32m     71\u001B[0m \u001B[38;5;124;03m    \"\"\"\u001B[39;00m\n\u001B[0;32m---> 73\u001B[0m     \u001B[38;5;28;01mreturn\u001B[39;00m \u001B[43mrequest\u001B[49m\u001B[43m(\u001B[49m\u001B[38;5;124;43m\"\u001B[39;49m\u001B[38;5;124;43mget\u001B[39;49m\u001B[38;5;124;43m\"\u001B[39;49m\u001B[43m,\u001B[49m\u001B[43m \u001B[49m\u001B[43murl\u001B[49m\u001B[43m,\u001B[49m\u001B[43m \u001B[49m\u001B[43mparams\u001B[49m\u001B[38;5;241;43m=\u001B[39;49m\u001B[43mparams\u001B[49m\u001B[43m,\u001B[49m\u001B[43m \u001B[49m\u001B[38;5;241;43m*\u001B[39;49m\u001B[38;5;241;43m*\u001B[39;49m\u001B[43mkwargs\u001B[49m\u001B[43m)\u001B[49m\n",
      "File \u001B[0;32m~/Library/Caches/pypoetry/virtualenvs/pygenesis-aPsOvLpD-py3.9/lib/python3.9/site-packages/requests/api.py:59\u001B[0m, in \u001B[0;36mrequest\u001B[0;34m(method, url, **kwargs)\u001B[0m\n\u001B[1;32m     55\u001B[0m \u001B[38;5;66;03m# By using the 'with' statement we are sure the session is closed, thus we\u001B[39;00m\n\u001B[1;32m     56\u001B[0m \u001B[38;5;66;03m# avoid leaving sockets open which can trigger a ResourceWarning in some\u001B[39;00m\n\u001B[1;32m     57\u001B[0m \u001B[38;5;66;03m# cases, and look like a memory leak in others.\u001B[39;00m\n\u001B[1;32m     58\u001B[0m \u001B[38;5;28;01mwith\u001B[39;00m sessions\u001B[38;5;241m.\u001B[39mSession() \u001B[38;5;28;01mas\u001B[39;00m session:\n\u001B[0;32m---> 59\u001B[0m     \u001B[38;5;28;01mreturn\u001B[39;00m \u001B[43msession\u001B[49m\u001B[38;5;241;43m.\u001B[39;49m\u001B[43mrequest\u001B[49m\u001B[43m(\u001B[49m\u001B[43mmethod\u001B[49m\u001B[38;5;241;43m=\u001B[39;49m\u001B[43mmethod\u001B[49m\u001B[43m,\u001B[49m\u001B[43m \u001B[49m\u001B[43murl\u001B[49m\u001B[38;5;241;43m=\u001B[39;49m\u001B[43murl\u001B[49m\u001B[43m,\u001B[49m\u001B[43m \u001B[49m\u001B[38;5;241;43m*\u001B[39;49m\u001B[38;5;241;43m*\u001B[39;49m\u001B[43mkwargs\u001B[49m\u001B[43m)\u001B[49m\n",
      "File \u001B[0;32m~/Library/Caches/pypoetry/virtualenvs/pygenesis-aPsOvLpD-py3.9/lib/python3.9/site-packages/requests/sessions.py:587\u001B[0m, in \u001B[0;36mSession.request\u001B[0;34m(self, method, url, params, data, headers, cookies, files, auth, timeout, allow_redirects, proxies, hooks, stream, verify, cert, json)\u001B[0m\n\u001B[1;32m    582\u001B[0m send_kwargs \u001B[38;5;241m=\u001B[39m {\n\u001B[1;32m    583\u001B[0m     \u001B[38;5;124m\"\u001B[39m\u001B[38;5;124mtimeout\u001B[39m\u001B[38;5;124m\"\u001B[39m: timeout,\n\u001B[1;32m    584\u001B[0m     \u001B[38;5;124m\"\u001B[39m\u001B[38;5;124mallow_redirects\u001B[39m\u001B[38;5;124m\"\u001B[39m: allow_redirects,\n\u001B[1;32m    585\u001B[0m }\n\u001B[1;32m    586\u001B[0m send_kwargs\u001B[38;5;241m.\u001B[39mupdate(settings)\n\u001B[0;32m--> 587\u001B[0m resp \u001B[38;5;241m=\u001B[39m \u001B[38;5;28;43mself\u001B[39;49m\u001B[38;5;241;43m.\u001B[39;49m\u001B[43msend\u001B[49m\u001B[43m(\u001B[49m\u001B[43mprep\u001B[49m\u001B[43m,\u001B[49m\u001B[43m \u001B[49m\u001B[38;5;241;43m*\u001B[39;49m\u001B[38;5;241;43m*\u001B[39;49m\u001B[43msend_kwargs\u001B[49m\u001B[43m)\u001B[49m\n\u001B[1;32m    589\u001B[0m \u001B[38;5;28;01mreturn\u001B[39;00m resp\n",
      "File \u001B[0;32m~/Library/Caches/pypoetry/virtualenvs/pygenesis-aPsOvLpD-py3.9/lib/python3.9/site-packages/requests/sessions.py:701\u001B[0m, in \u001B[0;36mSession.send\u001B[0;34m(self, request, **kwargs)\u001B[0m\n\u001B[1;32m    698\u001B[0m start \u001B[38;5;241m=\u001B[39m preferred_clock()\n\u001B[1;32m    700\u001B[0m \u001B[38;5;66;03m# Send the request\u001B[39;00m\n\u001B[0;32m--> 701\u001B[0m r \u001B[38;5;241m=\u001B[39m \u001B[43madapter\u001B[49m\u001B[38;5;241;43m.\u001B[39;49m\u001B[43msend\u001B[49m\u001B[43m(\u001B[49m\u001B[43mrequest\u001B[49m\u001B[43m,\u001B[49m\u001B[43m \u001B[49m\u001B[38;5;241;43m*\u001B[39;49m\u001B[38;5;241;43m*\u001B[39;49m\u001B[43mkwargs\u001B[49m\u001B[43m)\u001B[49m\n\u001B[1;32m    703\u001B[0m \u001B[38;5;66;03m# Total elapsed time of the request (approximately)\u001B[39;00m\n\u001B[1;32m    704\u001B[0m elapsed \u001B[38;5;241m=\u001B[39m preferred_clock() \u001B[38;5;241m-\u001B[39m start\n",
      "File \u001B[0;32m~/Library/Caches/pypoetry/virtualenvs/pygenesis-aPsOvLpD-py3.9/lib/python3.9/site-packages/requests/adapters.py:578\u001B[0m, in \u001B[0;36mHTTPAdapter.send\u001B[0;34m(self, request, stream, timeout, verify, cert, proxies)\u001B[0m\n\u001B[1;32m    576\u001B[0m     \u001B[38;5;28;01mraise\u001B[39;00m SSLError(e, request\u001B[38;5;241m=\u001B[39mrequest)\n\u001B[1;32m    577\u001B[0m \u001B[38;5;28;01melif\u001B[39;00m \u001B[38;5;28misinstance\u001B[39m(e, ReadTimeoutError):\n\u001B[0;32m--> 578\u001B[0m     \u001B[38;5;28;01mraise\u001B[39;00m ReadTimeout(e, request\u001B[38;5;241m=\u001B[39mrequest)\n\u001B[1;32m    579\u001B[0m \u001B[38;5;28;01melif\u001B[39;00m \u001B[38;5;28misinstance\u001B[39m(e, _InvalidHeader):\n\u001B[1;32m    580\u001B[0m     \u001B[38;5;28;01mraise\u001B[39;00m InvalidHeader(e, request\u001B[38;5;241m=\u001B[39mrequest)\n",
      "\u001B[0;31mReadTimeout\u001B[0m: HTTPSConnectionPool(host='www-genesis.destatis.de', port=443): Read timed out. (read timeout=15)"
     ]
    }
   ],
   "source": [
    "# set logging level to INFO to receive more detailed program response\n",
    "logging.basicConfig(level=logging.INFO)\n",
    "\n",
    "endpoint = 'data'\n",
    "method = 'tablefile'\n",
    "params = {'name':'42151-0001',\n",
    "          'area':'all',\n",
    "          'timeslices':20,\n",
    "          'job':'false',\n",
    "          'language':'de',}\n",
    "response = get_data_from_endpoint(endpoint=endpoint, method=method, params=params)"
   ],
   "metadata": {
    "collapsed": false,
    "pycharm": {
     "name": "#%%\n"
    }
   }
  },
  {
   "cell_type": "code",
   "execution_count": 3,
   "outputs": [
    {
     "name": "stdout",
     "output_type": "stream",
     "text": [
      "<Response [42]>\n"
     ]
    }
   ],
   "source": [
    "print(response)"
   ],
   "metadata": {
    "collapsed": false,
    "pycharm": {
     "name": "#%%\n"
    }
   }
  },
  {
   "cell_type": "code",
   "execution_count": 2,
   "metadata": {
    "collapsed": false,
    "pycharm": {
     "name": "#%%\n"
    }
   },
   "outputs": [
    {
     "name": "stderr",
     "output_type": "stream",
     "text": [
      "Die Daten sind zu groß um direkt abgerufen zu werden.Es muss ein Job gestartet werden, der einige Sekunden braucht,um die Daten bereitzustellen und abzurufen.\n",
      " Sollen wir einen Job starten?\n",
      " Ja/Nein:\n"
     ]
    },
    {
     "name": "stdout",
     "output_type": "stream",
     "text": [
      "98\n",
      "inner_loop\n",
      "99\n",
      "{'Ident': {'Service': 'data', 'Method': 'tablefile'}, 'Status': {'Code': 99, 'Content': 'Der Bearbeitungsauftrag wurde erstellt. Die Tabelle kann in Kürze als Ergebnis mit folgendem Namen abgerufen werden: 42151-0005_618384492', 'Type': 'Information'}, 'Parameter': {'username': '********************', 'password': '********************', 'name': '42151-0005', 'area': 'Alle', 'compress': 'false', 'transpose': 'false', 'startyear': '', 'endyear': '', 'timeslices': '20', 'regionalvariable': '', 'regionalkey': '', 'classifyingvariable1': '', 'classifyingkey1': '', 'classifyingvariable2': '', 'classifyingkey2': '', 'classifyingvariable3': '', 'classifyingkey3': '', 'format': 'csv', 'job': 'true', 'stand': '01.01.1970 01:00', 'language': 'de'}, 'Object': None, 'Copyright': '© Statistisches Bundesamt (Destatis), 2022'}\n",
      "99 {'Ident': {'Service': 'data', 'Method': 'tablefile'}, 'Status': {'Code': 99, 'Content': 'Der Bearbeitungsauftrag wurde erstellt. Die Tabelle kann in Kürze als Ergebnis mit folgendem Namen abgerufen werden: 42151-0005_618384492', 'Type': 'Information'}, 'Parameter': {'username': '********************', 'password': '********************', 'name': '42151-0005', 'area': 'Alle', 'compress': 'false', 'transpose': 'false', 'startyear': '', 'endyear': '', 'timeslices': '20', 'regionalvariable': '', 'regionalkey': '', 'classifyingvariable1': '', 'classifyingkey1': '', 'classifyingvariable2': '', 'classifyingkey2': '', 'classifyingvariable3': '', 'classifyingkey3': '', 'format': 'csv', 'job': 'true', 'stand': '01.01.1970 01:00', 'language': 'de'}, 'Object': None, 'Copyright': '© Statistisches Bundesamt (Destatis), 2022'}\n",
      "Der Bearbeitungsauftrag wurde erstellt. Die Tabelle kann in Kürze als Ergebnis mit folgendem Namen abgerufen werden: 42151-0005_618384492\n",
      "Der Job wurde angestoßen mit der ID: 42151-0005_618384492\n",
      "42151-0005_618384492\n",
      "{'name': '42151-0005', 'area': 'all', 'timeslices': 20, 'job': 'true', 'language': 'de', 'selection': '*42151-0005_618384492*'}\n"
     ]
    },
    {
     "name": "stderr",
     "output_type": "stream",
     "text": [
      "erfolgreich (Mindestens ein Parameter enthält ungültige Werte. Er wurde angepasst, um den Service starten zu können.: sortcriterion)\n"
     ]
    },
    {
     "name": "stdout",
     "output_type": "stream",
     "text": [
      "22\n",
      "{'Ident': {'Service': 'catalogue', 'Method': 'jobs'}, 'Status': {'Code': 22, 'Content': 'erfolgreich (Mindestens ein Parameter enthält ungültige Werte. Er wurde angepasst, um den Service starten zu können.: sortcriterion)', 'Type': 'Warnung'}, 'Parameter': {'username': '********************', 'password': '********************', 'selection': '*42151-0005_618384492*', 'searchcriterion': 'Code', 'sortcriterion': 'Auftragstyp', 'type': 'Alle', 'pagelength': '100', 'language': 'de', 'area': 'Benutzer'}, 'List': [{'Content': 'Werteabruf', 'Date': '19.09.2022', 'Time': '22:13:00', 'State': 'Wartet', 'Code': '42151-0005_618384492'}], 'Copyright': '© Statistisches Bundesamt (Destatis), 2022'}\n",
      "{'Ident': {'Service': 'catalogue', 'Method': 'jobs'}, 'Status': {'Code': 22, 'Content': 'erfolgreich (Mindestens ein Parameter enthält ungültige Werte. Er wurde angepasst, um den Service starten zu können.: sortcriterion)', 'Type': 'Warnung'}, 'Parameter': {'username': '********************', 'password': '********************', 'selection': '*42151-0005_618384492*', 'searchcriterion': 'Code', 'sortcriterion': 'Auftragstyp', 'type': 'Alle', 'pagelength': '100', 'language': 'de', 'area': 'Benutzer'}, 'List': [{'Content': 'Werteabruf', 'Date': '19.09.2022', 'Time': '22:13:00', 'State': 'Wartet', 'Code': '42151-0005_618384492'}], 'Copyright': '© Statistisches Bundesamt (Destatis), 2022'}\n",
      "Wartet\n",
      "{'name': '42151-0005', 'area': 'all', 'timeslices': 20, 'job': 'true', 'language': 'de', 'selection': '*42151-0005_618384492*'}\n"
     ]
    },
    {
     "name": "stderr",
     "output_type": "stream",
     "text": [
      "erfolgreich (Mindestens ein Parameter enthält ungültige Werte. Er wurde angepasst, um den Service starten zu können.: sortcriterion)\n"
     ]
    },
    {
     "name": "stdout",
     "output_type": "stream",
     "text": [
      "22\n",
      "{'Ident': {'Service': 'catalogue', 'Method': 'jobs'}, 'Status': {'Code': 22, 'Content': 'erfolgreich (Mindestens ein Parameter enthält ungültige Werte. Er wurde angepasst, um den Service starten zu können.: sortcriterion)', 'Type': 'Warnung'}, 'Parameter': {'username': '********************', 'password': '********************', 'selection': '*42151-0005_618384492*', 'searchcriterion': 'Code', 'sortcriterion': 'Auftragstyp', 'type': 'Alle', 'pagelength': '100', 'language': 'de', 'area': 'Benutzer'}, 'List': [{'Content': 'Werteabruf', 'Date': '19.09.2022', 'Time': '22:13:00', 'State': 'Wartet', 'Code': '42151-0005_618384492'}], 'Copyright': '© Statistisches Bundesamt (Destatis), 2022'}\n",
      "{'Ident': {'Service': 'catalogue', 'Method': 'jobs'}, 'Status': {'Code': 22, 'Content': 'erfolgreich (Mindestens ein Parameter enthält ungültige Werte. Er wurde angepasst, um den Service starten zu können.: sortcriterion)', 'Type': 'Warnung'}, 'Parameter': {'username': '********************', 'password': '********************', 'selection': '*42151-0005_618384492*', 'searchcriterion': 'Code', 'sortcriterion': 'Auftragstyp', 'type': 'Alle', 'pagelength': '100', 'language': 'de', 'area': 'Benutzer'}, 'List': [{'Content': 'Werteabruf', 'Date': '19.09.2022', 'Time': '22:13:00', 'State': 'Wartet', 'Code': '42151-0005_618384492'}], 'Copyright': '© Statistisches Bundesamt (Destatis), 2022'}\n",
      "Wartet\n",
      "{'name': '42151-0005', 'area': 'all', 'timeslices': 20, 'job': 'true', 'language': 'de', 'selection': '*42151-0005_618384492*'}\n"
     ]
    },
    {
     "name": "stderr",
     "output_type": "stream",
     "text": [
      "erfolgreich (Mindestens ein Parameter enthält ungültige Werte. Er wurde angepasst, um den Service starten zu können.: sortcriterion)\n"
     ]
    },
    {
     "name": "stdout",
     "output_type": "stream",
     "text": [
      "22\n",
      "{'Ident': {'Service': 'catalogue', 'Method': 'jobs'}, 'Status': {'Code': 22, 'Content': 'erfolgreich (Mindestens ein Parameter enthält ungültige Werte. Er wurde angepasst, um den Service starten zu können.: sortcriterion)', 'Type': 'Warnung'}, 'Parameter': {'username': '********************', 'password': '********************', 'selection': '*42151-0005_618384492*', 'searchcriterion': 'Code', 'sortcriterion': 'Auftragstyp', 'type': 'Alle', 'pagelength': '100', 'language': 'de', 'area': 'Benutzer'}, 'List': [{'Content': 'Werteabruf', 'Date': '19.09.2022', 'Time': '22:13:00', 'State': 'Aktiv', 'Code': '42151-0005_618384492'}], 'Copyright': '© Statistisches Bundesamt (Destatis), 2022'}\n",
      "{'Ident': {'Service': 'catalogue', 'Method': 'jobs'}, 'Status': {'Code': 22, 'Content': 'erfolgreich (Mindestens ein Parameter enthält ungültige Werte. Er wurde angepasst, um den Service starten zu können.: sortcriterion)', 'Type': 'Warnung'}, 'Parameter': {'username': '********************', 'password': '********************', 'selection': '*42151-0005_618384492*', 'searchcriterion': 'Code', 'sortcriterion': 'Auftragstyp', 'type': 'Alle', 'pagelength': '100', 'language': 'de', 'area': 'Benutzer'}, 'List': [{'Content': 'Werteabruf', 'Date': '19.09.2022', 'Time': '22:13:00', 'State': 'Aktiv', 'Code': '42151-0005_618384492'}], 'Copyright': '© Statistisches Bundesamt (Destatis), 2022'}\n",
      "Aktiv\n",
      "{'name': '42151-0005', 'area': 'all', 'timeslices': 20, 'job': 'true', 'language': 'de', 'selection': '*42151-0005_618384492*'}\n"
     ]
    },
    {
     "name": "stderr",
     "output_type": "stream",
     "text": [
      "erfolgreich (Mindestens ein Parameter enthält ungültige Werte. Er wurde angepasst, um den Service starten zu können.: sortcriterion)\n"
     ]
    },
    {
     "name": "stdout",
     "output_type": "stream",
     "text": [
      "22\n",
      "{'Ident': {'Service': 'catalogue', 'Method': 'jobs'}, 'Status': {'Code': 22, 'Content': 'erfolgreich (Mindestens ein Parameter enthält ungültige Werte. Er wurde angepasst, um den Service starten zu können.: sortcriterion)', 'Type': 'Warnung'}, 'Parameter': {'username': '********************', 'password': '********************', 'selection': '*42151-0005_618384492*', 'searchcriterion': 'Code', 'sortcriterion': 'Auftragstyp', 'type': 'Alle', 'pagelength': '100', 'language': 'de', 'area': 'Benutzer'}, 'List': [{'Content': 'Werteabruf', 'Date': '19.09.2022', 'Time': '22:13:00', 'State': 'Fertig', 'Code': '42151-0005_618384492'}], 'Copyright': '© Statistisches Bundesamt (Destatis), 2022'}\n",
      "{'Ident': {'Service': 'catalogue', 'Method': 'jobs'}, 'Status': {'Code': 22, 'Content': 'erfolgreich (Mindestens ein Parameter enthält ungültige Werte. Er wurde angepasst, um den Service starten zu können.: sortcriterion)', 'Type': 'Warnung'}, 'Parameter': {'username': '********************', 'password': '********************', 'selection': '*42151-0005_618384492*', 'searchcriterion': 'Code', 'sortcriterion': 'Auftragstyp', 'type': 'Alle', 'pagelength': '100', 'language': 'de', 'area': 'Benutzer'}, 'List': [{'Content': 'Werteabruf', 'Date': '19.09.2022', 'Time': '22:13:00', 'State': 'Fertig', 'Code': '42151-0005_618384492'}], 'Copyright': '© Statistisches Bundesamt (Destatis), 2022'}\n",
      "Fertig\n",
      "this 42151-0005\n",
      "{'name': '42151-0005_618384492', 'area': 'all', 'language': 'de'}\n",
      "test1\n",
      "42151-0005_618384492\n",
      "{'name': '42151-0005_618384492', 'area': 'all', 'language': 'de'}\n",
      "{'Ident': {'Service': 'data', 'Method': 'tablefile'}, 'Status': {'Code': 98, 'Content': 'Die Tabelle ist zu gross, um im Dialog abgerufen zu werden. Bitte nutzen sie den Webservice mit dem Parameter auftrag=true um eine Verarbeitung im Hintergrund zu starten.', 'Type': 'Fehler'}, 'Parameter': {'username': '********************', 'password': '********************', 'name': '42151-0005', 'area': 'Alle', 'compress': 'false', 'transpose': 'false', 'startyear': '', 'endyear': '', 'timeslices': '20', 'regionalvariable': '', 'regionalkey': '', 'classifyingvariable1': '', 'classifyingkey1': '', 'classifyingvariable2': '', 'classifyingkey2': '', 'classifyingvariable3': '', 'classifyingkey3': '', 'format': 'csv', 'job': 'false', 'stand': '01.01.1970 01:00', 'language': 'de'}, 'Object': None, 'Copyright': '© Statistisches Bundesamt (Destatis), 2022'}\n"
     ]
    },
    {
     "ename": "DestatisStatusError",
     "evalue": "Die Tabelle ist zu gross, um im Dialog abgerufen zu werden. Bitte nutzen sie den Webservice mit dem Parameter auftrag=true um eine Verarbeitung im Hintergrund zu starten.",
     "output_type": "error",
     "traceback": [
      "\u001B[1;31m---------------------------------------------------------------------------\u001B[0m",
      "\u001B[1;31mDestatisStatusError\u001B[0m                       Traceback (most recent call last)",
      "\u001B[1;32mc:\\Users\\MDick\\Documents\\GitHub\\genesis-python\\nb\\jobs.ipynb Zelle 4\u001B[0m in \u001B[0;36m<cell line: 9>\u001B[1;34m()\u001B[0m\n\u001B[0;32m      <a href='vscode-notebook-cell:/c%3A/Users/MDick/Documents/GitHub/genesis-python/nb/jobs.ipynb#W3sZmlsZQ%3D%3D?line=1'>2</a>\u001B[0m method \u001B[39m=\u001B[39m \u001B[39m'\u001B[39m\u001B[39mtablefile\u001B[39m\u001B[39m'\u001B[39m\n\u001B[0;32m      <a href='vscode-notebook-cell:/c%3A/Users/MDick/Documents/GitHub/genesis-python/nb/jobs.ipynb#W3sZmlsZQ%3D%3D?line=2'>3</a>\u001B[0m params \u001B[39m=\u001B[39m {\u001B[39m'\u001B[39m\u001B[39mname\u001B[39m\u001B[39m'\u001B[39m:\u001B[39m'\u001B[39m\u001B[39m42151-0005\u001B[39m\u001B[39m'\u001B[39m,\n\u001B[0;32m      <a href='vscode-notebook-cell:/c%3A/Users/MDick/Documents/GitHub/genesis-python/nb/jobs.ipynb#W3sZmlsZQ%3D%3D?line=3'>4</a>\u001B[0m           \u001B[39m'\u001B[39m\u001B[39marea\u001B[39m\u001B[39m'\u001B[39m:\u001B[39m'\u001B[39m\u001B[39mall\u001B[39m\u001B[39m'\u001B[39m,\n\u001B[0;32m      <a href='vscode-notebook-cell:/c%3A/Users/MDick/Documents/GitHub/genesis-python/nb/jobs.ipynb#W3sZmlsZQ%3D%3D?line=4'>5</a>\u001B[0m           \u001B[39m'\u001B[39m\u001B[39mtimeslices\u001B[39m\u001B[39m'\u001B[39m:\u001B[39m20\u001B[39m,\n\u001B[0;32m      <a href='vscode-notebook-cell:/c%3A/Users/MDick/Documents/GitHub/genesis-python/nb/jobs.ipynb#W3sZmlsZQ%3D%3D?line=5'>6</a>\u001B[0m           \u001B[39m#'sortcriterion': 'Auftragstyp',\u001B[39;00m\n\u001B[0;32m      <a href='vscode-notebook-cell:/c%3A/Users/MDick/Documents/GitHub/genesis-python/nb/jobs.ipynb#W3sZmlsZQ%3D%3D?line=6'>7</a>\u001B[0m           \u001B[39m'\u001B[39m\u001B[39mjob\u001B[39m\u001B[39m'\u001B[39m:\u001B[39m'\u001B[39m\u001B[39mfalse\u001B[39m\u001B[39m'\u001B[39m,\n\u001B[0;32m      <a href='vscode-notebook-cell:/c%3A/Users/MDick/Documents/GitHub/genesis-python/nb/jobs.ipynb#W3sZmlsZQ%3D%3D?line=7'>8</a>\u001B[0m           \u001B[39m'\u001B[39m\u001B[39mlanguage\u001B[39m\u001B[39m'\u001B[39m:\u001B[39m'\u001B[39m\u001B[39mde\u001B[39m\u001B[39m'\u001B[39m,}\n\u001B[1;32m----> <a href='vscode-notebook-cell:/c%3A/Users/MDick/Documents/GitHub/genesis-python/nb/jobs.ipynb#W3sZmlsZQ%3D%3D?line=8'>9</a>\u001B[0m response \u001B[39m=\u001B[39m load_data(endpoint\u001B[39m=\u001B[39;49mendpoint, method\u001B[39m=\u001B[39;49mmethod, params\u001B[39m=\u001B[39;49mparams)\n",
      "File \u001B[1;32m~\\Documents\\GitHub\\genesis-python\\src\\pygenesis\\http_helper.py:40\u001B[0m, in \u001B[0;36mload_data\u001B[1;34m(endpoint, method, params, as_json)\u001B[0m\n\u001B[0;32m     38\u001B[0m     data \u001B[39m=\u001B[39m read_from_cache(cache_dir, name, endpoint, method, params)\n\u001B[0;32m     39\u001B[0m \u001B[39melse\u001B[39;00m:\n\u001B[1;32m---> 40\u001B[0m     data \u001B[39m=\u001B[39m get_data_from_endpoint(endpoint, method, params)\n\u001B[0;32m     42\u001B[0m     \u001B[39mif\u001B[39;00m endpoint \u001B[39m==\u001B[39m \u001B[39m\"\u001B[39m\u001B[39mdata\u001B[39m\u001B[39m\"\u001B[39m:\n\u001B[0;32m     43\u001B[0m         cache_data(cache_dir, name, endpoint, method, params, data)\n",
      "File \u001B[1;32m~\\Documents\\GitHub\\genesis-python\\src\\pygenesis\\http_helper.py:102\u001B[0m, in \u001B[0;36mget_data_from_endpoint\u001B[1;34m(endpoint, method, params)\u001B[0m\n\u001B[0;32m    100\u001B[0m \u001B[39mprint\u001B[39m(response\u001B[39m.\u001B[39mjson())\n\u001B[0;32m    101\u001B[0m _check_invalid_status_code(response\u001B[39m.\u001B[39mstatus_code)\n\u001B[1;32m--> 102\u001B[0m _check_invalid_destatis_status_code(response)\n\u001B[0;32m    104\u001B[0m \u001B[39mreturn\u001B[39;00m \u001B[39mstr\u001B[39m(response\u001B[39m.\u001B[39mtext)\n",
      "File \u001B[1;32m~\\Documents\\GitHub\\genesis-python\\src\\pygenesis\\http_helper.py:362\u001B[0m, in \u001B[0;36m_check_invalid_destatis_status_code\u001B[1;34m(response)\u001B[0m\n\u001B[0;32m    359\u001B[0m     response_dict \u001B[39m=\u001B[39m \u001B[39mNone\u001B[39;00m\n\u001B[0;32m    361\u001B[0m \u001B[39mif\u001B[39;00m response_dict \u001B[39mis\u001B[39;00m \u001B[39mnot\u001B[39;00m \u001B[39mNone\u001B[39;00m:\n\u001B[1;32m--> 362\u001B[0m     _check_destatis_status(response_dict\u001B[39m.\u001B[39;49mget(\u001B[39m\"\u001B[39;49m\u001B[39mStatus\u001B[39;49m\u001B[39m\"\u001B[39;49m, {}))\n",
      "File \u001B[1;32m~\\Documents\\GitHub\\genesis-python\\src\\pygenesis\\http_helper.py:399\u001B[0m, in \u001B[0;36m_check_destatis_status\u001B[1;34m(destatis_status)\u001B[0m\n\u001B[0;32m    397\u001B[0m \u001B[39m# check for destatis/ query errors\u001B[39;00m\n\u001B[0;32m    398\u001B[0m \u001B[39melif\u001B[39;00m (destatis_status_code \u001B[39m==\u001B[39m \u001B[39m104\u001B[39m) \u001B[39mor\u001B[39;00m (destatis_status_type\u001B[39m.\u001B[39mlower() \u001B[39min\u001B[39;00m error_en_de):\n\u001B[1;32m--> 399\u001B[0m     \u001B[39mraise\u001B[39;00m DestatisStatusError(destatis_status_content)\n\u001B[0;32m    401\u001B[0m \u001B[39m# output warnings to user\u001B[39;00m\n\u001B[0;32m    402\u001B[0m \u001B[39melif\u001B[39;00m (destatis_status_code \u001B[39m==\u001B[39m \u001B[39m22\u001B[39m) \u001B[39mor\u001B[39;00m (\n\u001B[0;32m    403\u001B[0m     destatis_status_type\u001B[39m.\u001B[39mlower() \u001B[39min\u001B[39;00m warning_en_de\n\u001B[0;32m    404\u001B[0m ):\n",
      "\u001B[1;31mDestatisStatusError\u001B[0m: Die Tabelle ist zu gross, um im Dialog abgerufen zu werden. Bitte nutzen sie den Webservice mit dem Parameter auftrag=true um eine Verarbeitung im Hintergrund zu starten."
     ]
    }
   ],
   "source": [
    "endpoint = 'data'\n",
    "method = 'tablefile'\n",
    "params = {'name':'42151-0005',\n",
    "          'area':'all',\n",
    "          'timeslices':20,\n",
    "          #'sortcriterion': 'Auftragstyp',\n",
    "          'job':'false',\n",
    "          'language':'de',}\n",
    "response = load_data(endpoint=endpoint, method=method, params=params)\n",
    "#initial_response = response.json()"
   ]
  },
  {
   "cell_type": "code",
   "execution_count": 4,
   "metadata": {
    "pycharm": {
     "name": "#%%\n"
    }
   },
   "outputs": [
    {
     "name": "stderr",
     "output_type": "stream",
     "text": [
      "Die Daten sind zu groß um direkt abgerufen zu werden.Es muss ein Job gestartet werden, der einige Sekunden braucht,um die Daten bereitzustellen und abzurufen.\n",
      " Sollen wir einen Job starten?\n",
      " Ja/Nein:\n"
     ]
    },
    {
     "name": "stdout",
     "output_type": "stream",
     "text": [
      "98\n",
      "{'Ident': {'Service': 'data', 'Method': 'tablefile'}, 'Status': {'Code': 98, 'Content': 'Die Tabelle ist zu gross, um im Dialog abgerufen zu werden. Bitte nutzen sie den Webservice mit dem Parameter auftrag=true um eine Verarbeitung im Hintergrund zu starten.', 'Type': 'Fehler'}, 'Parameter': {'username': '********************', 'password': '********************', 'name': '42151-0005', 'area': 'Alle', 'compress': 'false', 'transpose': 'false', 'startyear': '', 'endyear': '', 'timeslices': '20', 'regionalvariable': '', 'regionalkey': '', 'classifyingvariable1': '', 'classifyingkey1': '', 'classifyingvariable2': '', 'classifyingkey2': '', 'classifyingvariable3': '', 'classifyingkey3': '', 'format': 'csv', 'job': 'false', 'stand': '01.01.1970 01:00', 'language': 'de'}, 'Object': None, 'Copyright': '© Statistisches Bundesamt (Destatis), 2022'}\n"
     ]
    },
    {
     "ename": "DestatisStatusError",
     "evalue": "Die Tabelle ist zu gross, um im Dialog abgerufen zu werden. Bitte nutzen sie den Webservice mit dem Parameter auftrag=true um eine Verarbeitung im Hintergrund zu starten.",
     "output_type": "error",
     "traceback": [
      "\u001B[1;31m---------------------------------------------------------------------------\u001B[0m",
      "\u001B[1;31mDestatisStatusError\u001B[0m                       Traceback (most recent call last)",
      "\u001B[1;32mc:\\Users\\MDick\\Documents\\GitHub\\genesis-python\\nb\\jobs.ipynb Zelle 5\u001B[0m in \u001B[0;36m<cell line: 9>\u001B[1;34m()\u001B[0m\n\u001B[0;32m      <a href='vscode-notebook-cell:/c%3A/Users/MDick/Documents/GitHub/genesis-python/nb/jobs.ipynb#X22sZmlsZQ%3D%3D?line=1'>2</a>\u001B[0m method \u001B[39m=\u001B[39m \u001B[39m'\u001B[39m\u001B[39mtablefile\u001B[39m\u001B[39m'\u001B[39m\n\u001B[0;32m      <a href='vscode-notebook-cell:/c%3A/Users/MDick/Documents/GitHub/genesis-python/nb/jobs.ipynb#X22sZmlsZQ%3D%3D?line=2'>3</a>\u001B[0m params \u001B[39m=\u001B[39m {\u001B[39m'\u001B[39m\u001B[39mname\u001B[39m\u001B[39m'\u001B[39m:\u001B[39m'\u001B[39m\u001B[39m42151-0005\u001B[39m\u001B[39m'\u001B[39m,\n\u001B[0;32m      <a href='vscode-notebook-cell:/c%3A/Users/MDick/Documents/GitHub/genesis-python/nb/jobs.ipynb#X22sZmlsZQ%3D%3D?line=3'>4</a>\u001B[0m           \u001B[39m'\u001B[39m\u001B[39marea\u001B[39m\u001B[39m'\u001B[39m:\u001B[39m'\u001B[39m\u001B[39mall\u001B[39m\u001B[39m'\u001B[39m,\n\u001B[0;32m      <a href='vscode-notebook-cell:/c%3A/Users/MDick/Documents/GitHub/genesis-python/nb/jobs.ipynb#X22sZmlsZQ%3D%3D?line=4'>5</a>\u001B[0m           \u001B[39m'\u001B[39m\u001B[39mtimeslices\u001B[39m\u001B[39m'\u001B[39m:\u001B[39m20\u001B[39m,\n\u001B[0;32m      <a href='vscode-notebook-cell:/c%3A/Users/MDick/Documents/GitHub/genesis-python/nb/jobs.ipynb#X22sZmlsZQ%3D%3D?line=5'>6</a>\u001B[0m           \u001B[39m'\u001B[39m\u001B[39msortcriterion\u001B[39m\u001B[39m'\u001B[39m: \u001B[39m'\u001B[39m\u001B[39mAuftragstyp\u001B[39m\u001B[39m'\u001B[39m,\n\u001B[0;32m      <a href='vscode-notebook-cell:/c%3A/Users/MDick/Documents/GitHub/genesis-python/nb/jobs.ipynb#X22sZmlsZQ%3D%3D?line=6'>7</a>\u001B[0m           \u001B[39m'\u001B[39m\u001B[39mjob\u001B[39m\u001B[39m'\u001B[39m:\u001B[39m'\u001B[39m\u001B[39mfalse\u001B[39m\u001B[39m'\u001B[39m,\n\u001B[0;32m      <a href='vscode-notebook-cell:/c%3A/Users/MDick/Documents/GitHub/genesis-python/nb/jobs.ipynb#X22sZmlsZQ%3D%3D?line=7'>8</a>\u001B[0m           \u001B[39m'\u001B[39m\u001B[39mlanguage\u001B[39m\u001B[39m'\u001B[39m:\u001B[39m'\u001B[39m\u001B[39mde\u001B[39m\u001B[39m'\u001B[39m,}\n\u001B[1;32m----> <a href='vscode-notebook-cell:/c%3A/Users/MDick/Documents/GitHub/genesis-python/nb/jobs.ipynb#X22sZmlsZQ%3D%3D?line=8'>9</a>\u001B[0m response \u001B[39m=\u001B[39m get_data_from_endpoint(endpoint\u001B[39m=\u001B[39;49mendpoint, method\u001B[39m=\u001B[39;49mmethod, params\u001B[39m=\u001B[39;49mparams)\n\u001B[0;32m     <a href='vscode-notebook-cell:/c%3A/Users/MDick/Documents/GitHub/genesis-python/nb/jobs.ipynb#X22sZmlsZQ%3D%3D?line=9'>10</a>\u001B[0m initial_response \u001B[39m=\u001B[39m response\u001B[39m.\u001B[39mjson()\n",
      "File \u001B[1;32m~\\Documents\\GitHub\\genesis-python\\src\\pygenesis\\http_helper.py:102\u001B[0m, in \u001B[0;36mget_data_from_endpoint\u001B[1;34m(endpoint, method, params)\u001B[0m\n\u001B[0;32m    100\u001B[0m \u001B[39mprint\u001B[39m(response\u001B[39m.\u001B[39mjson())\n\u001B[0;32m    101\u001B[0m _check_invalid_status_code(response\u001B[39m.\u001B[39mstatus_code)\n\u001B[1;32m--> 102\u001B[0m _check_invalid_destatis_status_code(response)\n\u001B[0;32m    104\u001B[0m \u001B[39mreturn\u001B[39;00m \u001B[39mstr\u001B[39m(response\u001B[39m.\u001B[39mtext)\n",
      "File \u001B[1;32m~\\Documents\\GitHub\\genesis-python\\src\\pygenesis\\http_helper.py:345\u001B[0m, in \u001B[0;36m_check_invalid_destatis_status_code\u001B[1;34m(response)\u001B[0m\n\u001B[0;32m    342\u001B[0m     response_dict \u001B[39m=\u001B[39m \u001B[39mNone\u001B[39;00m\n\u001B[0;32m    344\u001B[0m \u001B[39mif\u001B[39;00m response_dict \u001B[39mis\u001B[39;00m \u001B[39mnot\u001B[39;00m \u001B[39mNone\u001B[39;00m:\n\u001B[1;32m--> 345\u001B[0m     _check_destatis_status(response_dict\u001B[39m.\u001B[39;49mget(\u001B[39m\"\u001B[39;49m\u001B[39mStatus\u001B[39;49m\u001B[39m\"\u001B[39;49m, {}))\n",
      "File \u001B[1;32m~\\Documents\\GitHub\\genesis-python\\src\\pygenesis\\http_helper.py:382\u001B[0m, in \u001B[0;36m_check_destatis_status\u001B[1;34m(destatis_status)\u001B[0m\n\u001B[0;32m    380\u001B[0m \u001B[39m# check for destatis/ query errors\u001B[39;00m\n\u001B[0;32m    381\u001B[0m \u001B[39melif\u001B[39;00m (destatis_status_code \u001B[39m==\u001B[39m \u001B[39m104\u001B[39m) \u001B[39mor\u001B[39;00m (destatis_status_type \u001B[39min\u001B[39;00m error_en_de):\n\u001B[1;32m--> 382\u001B[0m     \u001B[39mraise\u001B[39;00m DestatisStatusError(destatis_status_content)\n\u001B[0;32m    384\u001B[0m \u001B[39m# output warnings to user\u001B[39;00m\n\u001B[0;32m    385\u001B[0m \u001B[39melif\u001B[39;00m (destatis_status_code \u001B[39m==\u001B[39m \u001B[39m22\u001B[39m) \u001B[39mor\u001B[39;00m (\n\u001B[0;32m    386\u001B[0m     destatis_status_type \u001B[39min\u001B[39;00m warning_en_de\n\u001B[0;32m    387\u001B[0m ):\n",
      "\u001B[1;31mDestatisStatusError\u001B[0m: Die Tabelle ist zu gross, um im Dialog abgerufen zu werden. Bitte nutzen sie den Webservice mit dem Parameter auftrag=true um eine Verarbeitung im Hintergrund zu starten."
     ]
    }
   ],
   "source": [
    "endpoint = 'data'\n",
    "method = 'tablefile'\n",
    "params = {'name':'42151-0005',\n",
    "          'area':'all',\n",
    "          'timeslices':20,\n",
    "          'sortcriterion': 'Auftragstyp',\n",
    "          'job':'false',\n",
    "          'language':'de',}\n",
    "response = get_data_from_endpoint(endpoint=endpoint, method=method, params=params)\n",
    "initial_response = response.json()"
   ]
  },
  {
   "cell_type": "code",
   "execution_count": 77,
   "metadata": {
    "collapsed": false,
    "pycharm": {
     "name": "#%%\n"
    }
   },
   "outputs": [
    {
     "data": {
      "text/plain": [
       "{'Ident': {'Service': 'data', 'Method': 'tablefile'},\n",
       " 'Status': {'Code': 98,\n",
       "  'Content': 'Die Tabelle ist zu gross, um im Dialog abgerufen zu werden. Bitte nutzen sie den Webservice mit dem Parameter auftrag=true um eine Verarbeitung im Hintergrund zu starten.',\n",
       "  'Type': 'Fehler'},\n",
       " 'Parameter': {'username': '********************',\n",
       "  'password': '********************',\n",
       "  'name': '42153-0001',\n",
       "  'area': 'Alle',\n",
       "  'compress': 'false',\n",
       "  'transpose': 'false',\n",
       "  'startyear': '',\n",
       "  'endyear': '',\n",
       "  'timeslices': '20',\n",
       "  'regionalvariable': '',\n",
       "  'regionalkey': '',\n",
       "  'classifyingvariable1': '',\n",
       "  'classifyingkey1': '',\n",
       "  'classifyingvariable2': '',\n",
       "  'classifyingkey2': '',\n",
       "  'classifyingvariable3': '',\n",
       "  'classifyingkey3': '',\n",
       "  'format': 'csv',\n",
       "  'job': 'false',\n",
       "  'stand': '01.01.1970 01:00',\n",
       "  'language': 'de'},\n",
       " 'Object': None,\n",
       " 'Copyright': '© Statistisches Bundesamt (Destatis), 2022'}"
      ]
     },
     "execution_count": 77,
     "metadata": {},
     "output_type": "execute_result"
    }
   ],
   "source": [
    "initial_response"
   ]
  },
  {
   "cell_type": "code",
   "execution_count": 78,
   "metadata": {
    "collapsed": false,
    "pycharm": {
     "name": "#%%\n"
    }
   },
   "outputs": [
    {
     "data": {
      "text/plain": [
       "{'Code': 98,\n",
       " 'Content': 'Die Tabelle ist zu gross, um im Dialog abgerufen zu werden. Bitte nutzen sie den Webservice mit dem Parameter auftrag=true um eine Verarbeitung im Hintergrund zu starten.',\n",
       " 'Type': 'Fehler'}"
      ]
     },
     "execution_count": 78,
     "metadata": {},
     "output_type": "execute_result"
    }
   ],
   "source": [
    "initial_response.get('Status')"
   ]
  },
  {
   "cell_type": "markdown",
   "metadata": {
    "collapsed": false,
    "pycharm": {
     "name": "#%% md\n"
    }
   },
   "source": [
    "Der Status ist vom Typ Fehler, da die Tabelle zu groß ist & mittels eines Jobs abgerufen werden muss. Wir stellen somit erneut den gleichen Funktionsaufruf, diese mal aber mit 'job=true'."
   ]
  },
  {
   "cell_type": "code",
   "execution_count": 3,
   "metadata": {
    "collapsed": false,
    "pycharm": {
     "name": "#%%\n"
    }
   },
   "outputs": [
    {
     "name": "stdout",
     "output_type": "stream",
     "text": [
      "<Response [401]> {\"Code\":15,\"Content\":\"Sie sind nicht berechtigt diesen Service aufzurufen! (KDTYP)\",\"Type\":\"ERROR\"}\n",
      "Der Job wurde gestartet\n"
     ]
    }
   ],
   "source": [
    "endpoint = 'data'\n",
    "method = 'tablefile'\n",
    "params = {'name':'42151-0005',\n",
    "          'area':'all',\n",
    "          'timeslices':20,\n",
    "          #'sortcriterion': 'Auftragstyp',\n",
    "          #'job':'false',\n",
    "          'language':'de',}\n",
    "\n",
    "from pygenesis.config import load_config\n",
    "\n",
    "config = load_config()\n",
    "url = f\"{config['GENESIS API']['base_url']}{endpoint}/{method}\"\n",
    "\n",
    "#if initial_response.get('Status').get('Code') == 98:\n",
    "params |= {'job':'true'}\n",
    "response = requests.get(url, params=params, timeout=(5, 15))\n",
    "print(response, response.text)\n",
    "response.encoding = \"UTF-8\"\n",
    "jobs_response = response.json()\n",
    "print('Der Job wurde gestartet')"
   ]
  },
  {
   "cell_type": "code",
   "execution_count": 9,
   "metadata": {
    "collapsed": false,
    "pycharm": {
     "name": "#%%\n"
    }
   },
   "outputs": [
    {
     "data": {
      "text/plain": [
       "{'Code': 15,\n",
       " 'Content': 'Sie sind nicht berechtigt diesen Service aufzurufen! (KDTYP)',\n",
       " 'Type': 'ERROR'}"
      ]
     },
     "execution_count": 9,
     "metadata": {},
     "output_type": "execute_result"
    }
   ],
   "source": [
    "jobs_response"
   ]
  },
  {
   "cell_type": "markdown",
   "metadata": {
    "collapsed": false,
    "pycharm": {
     "name": "#%% md\n"
    }
   },
   "source": [
    "Der Informations-Code 99 zeigt an, dass der Job angestoßen wurde. Die ID des Jobs lässt sich im Content des Status finden."
   ]
  },
  {
   "cell_type": "code",
   "execution_count": 81,
   "metadata": {
    "collapsed": false,
    "pycharm": {
     "name": "#%%\n"
    }
   },
   "outputs": [
    {
     "name": "stdout",
     "output_type": "stream",
     "text": [
      "Der Job wurde angestoßen mit der ID: 42153-0001_604489979\n"
     ]
    }
   ],
   "source": [
    "if jobs_response.get('Status').get('Code') == 99:\n",
    "    s = jobs_response.get('Status').get('Content')\n",
    "    job_ID = s.split(':')[1].strip()\n",
    "    print('Der Job wurde angestoßen mit der ID: {}'.format(job_ID))"
   ]
  },
  {
   "cell_type": "markdown",
   "metadata": {
    "collapsed": false,
    "pycharm": {
     "name": "#%% md\n"
    }
   },
   "source": [
    "Wir können den Status des Jobs über den 'catalgoue' Endpunkt abfragen."
   ]
  },
  {
   "cell_type": "code",
   "execution_count": 93,
   "metadata": {
    "collapsed": false,
    "pycharm": {
     "name": "#%%\n"
    }
   },
   "outputs": [],
   "source": [
    "params_catalogue = {\n",
    "    'selection':job_ID,\n",
    "    'sortcriterion':'date',\n",
    "    'area':'Öffentlich',\n",
    "    'pagelength':20,\n",
    "    'language':'de',\n",
    "}\n",
    "catalogue_response = get_response_from_endpoint('catalogue', 'jobs?', params)"
   ]
  },
  {
   "cell_type": "code",
   "execution_count": 95,
   "metadata": {
    "collapsed": false,
    "pycharm": {
     "name": "#%%\n"
    }
   },
   "outputs": [
    {
     "name": "stdout",
     "output_type": "stream",
     "text": [
      "{'Content': 'Werteabruf', 'Date': '27.08.2022', 'Time': '14:48:01', 'State': 'Fertig', 'Code': '42153-0001_604489979'}\n",
      "Der Endpunkt catalogue/jobs wurde angesprochen. Der Status ist: Fertig\n"
     ]
    }
   ],
   "source": [
    "for elem in catalogue_response.json().get('List'):\n",
    "    if elem.get('Code') == job_ID:\n",
    "        job_result = elem\n",
    "        print(job_result)\n",
    "        print('Der Endpunkt catalogue/jobs wurde angesprochen. Der Status ist: {}'.format(job_result.get('State')))"
   ]
  },
  {
   "cell_type": "code",
   "execution_count": 96,
   "metadata": {
    "collapsed": false,
    "pycharm": {
     "name": "#%%\n"
    }
   },
   "outputs": [
    {
     "name": "stdout",
     "output_type": "stream",
     "text": [
      "Das Resultatedokument der ID 42153-0001_604489979 & wurde in folgender Variable gespeichert 'resultfile'\n"
     ]
    }
   ],
   "source": [
    "if job_result.get('State') != 'Fertig':\n",
    "    print('Es wird auf die Fertigstellung des Jobs gewartet!'\n",
    "          '\\nBitte teste diesen Block später erneut.')\n",
    "else:\n",
    "    if job_ID == job_result.get('Code'):\n",
    "        params_resultfile = {\n",
    "            'name':job_ID,\n",
    "            'area':'all',\n",
    "            'compress':'false',\n",
    "            'format':'csv',\n",
    "            'language':'de',\n",
    "        }\n",
    "        resultfile = get_response_from_endpoint('data', 'resultfile?', params)\n",
    "        resultfile = requests.get('{0}/data/resultfile?username={1}&password={2}&name={3}&area=all&compress=false&format=csv&language=de'.format(genesis_url, genesis_user, genesis_pwd,job_ID))\n",
    "        print('Das Resultatedokument der ID {0} & wurde in folgender Variable gespeichert \\'resultfile\\''.format(job_ID))"
   ]
  },
  {
   "cell_type": "markdown",
   "metadata": {
    "collapsed": false,
    "pycharm": {
     "name": "#%% md\n"
    }
   },
   "source": []
  }
 ],
 "metadata": {
  "kernelspec": {
   "display_name": "Python 3.9.12 ('pygenesis')",
   "language": "python",
   "name": "python3"
  },
  "language_info": {
   "codemirror_mode": {
    "name": "ipython",
    "version": 3
   },
   "file_extension": ".py",
   "mimetype": "text/x-python",
   "name": "python",
   "nbconvert_exporter": "python",
   "pygments_lexer": "ipython3",
   "version": "3.9.12"
  },
  "vscode": {
   "interpreter": {
    "hash": "c50015765afe066708d859da3faaa0505e12b679b95f6727e524b172064c6917"
   }
  }
 },
 "nbformat": 4,
 "nbformat_minor": 0
}