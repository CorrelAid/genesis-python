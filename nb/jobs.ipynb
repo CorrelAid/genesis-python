{
 "cells": [
  {
   "cell_type": "markdown",
   "source": [
    "# Notizbuch für den 'data' Endpunkt & Spezifikation von 'job=true'"
   ],
   "metadata": {
    "collapsed": false,
    "pycharm": {
     "name": "#%% md\n"
    }
   }
  },
  {
   "cell_type": "code",
   "execution_count": 65,
   "outputs": [],
   "source": [
    "import requests\n",
    "from pygenesis.http_helper import get_response_from_endpoint"
   ],
   "metadata": {
    "collapsed": false,
    "pycharm": {
     "name": "#%%\n"
    }
   }
  },
  {
   "cell_type": "markdown",
   "source": [
    "Initial wird 'job=false' gesetzt, dies ist identisch zum nicht spezifizieren des Parameteres."
   ],
   "metadata": {
    "collapsed": false,
    "pycharm": {
     "name": "#%% md\n"
    }
   }
  },
  {
   "cell_type": "code",
   "execution_count": 76,
   "outputs": [],
   "source": [
    "endpoint = 'data'\n",
    "method = 'tablefile?'\n",
    "params = {'name':'42153-0001',\n",
    "          'area':'all',\n",
    "          'timeslices':20,\n",
    "          'job':'false',\n",
    "          'language':'de',}\n",
    "response = get_response_from_endpoint(endpoint, method, params)\n",
    "initial_response = response.json()"
   ],
   "metadata": {
    "collapsed": false,
    "pycharm": {
     "name": "#%%\n"
    }
   }
  },
  {
   "cell_type": "code",
   "execution_count": 77,
   "outputs": [
    {
     "data": {
      "text/plain": "{'Ident': {'Service': 'data', 'Method': 'tablefile'},\n 'Status': {'Code': 98,\n  'Content': 'Die Tabelle ist zu gross, um im Dialog abgerufen zu werden. Bitte nutzen sie den Webservice mit dem Parameter auftrag=true um eine Verarbeitung im Hintergrund zu starten.',\n  'Type': 'Fehler'},\n 'Parameter': {'username': '********************',\n  'password': '********************',\n  'name': '42153-0001',\n  'area': 'Alle',\n  'compress': 'false',\n  'transpose': 'false',\n  'startyear': '',\n  'endyear': '',\n  'timeslices': '20',\n  'regionalvariable': '',\n  'regionalkey': '',\n  'classifyingvariable1': '',\n  'classifyingkey1': '',\n  'classifyingvariable2': '',\n  'classifyingkey2': '',\n  'classifyingvariable3': '',\n  'classifyingkey3': '',\n  'format': 'csv',\n  'job': 'false',\n  'stand': '01.01.1970 01:00',\n  'language': 'de'},\n 'Object': None,\n 'Copyright': '© Statistisches Bundesamt (Destatis), 2022'}"
     },
     "execution_count": 77,
     "metadata": {},
     "output_type": "execute_result"
    }
   ],
   "source": [
    "initial_response"
   ],
   "metadata": {
    "collapsed": false,
    "pycharm": {
     "name": "#%%\n"
    }
   }
  },
  {
   "cell_type": "code",
   "execution_count": 78,
   "outputs": [
    {
     "data": {
      "text/plain": "{'Code': 98,\n 'Content': 'Die Tabelle ist zu gross, um im Dialog abgerufen zu werden. Bitte nutzen sie den Webservice mit dem Parameter auftrag=true um eine Verarbeitung im Hintergrund zu starten.',\n 'Type': 'Fehler'}"
     },
     "execution_count": 78,
     "metadata": {},
     "output_type": "execute_result"
    }
   ],
   "source": [
    "initial_response.get('Status')"
   ],
   "metadata": {
    "collapsed": false,
    "pycharm": {
     "name": "#%%\n"
    }
   }
  },
  {
   "cell_type": "markdown",
   "source": [
    "Der Status ist vom Typ Fehler, da die Tabelle zu groß ist & mittels eines Jobs abgerufen werden muss. Wir stellen somit erneut den gleichen Funktionsaufruf, diese mal aber mit 'job=true'."
   ],
   "metadata": {
    "collapsed": false,
    "pycharm": {
     "name": "#%% md\n"
    }
   }
  },
  {
   "cell_type": "code",
   "execution_count": 79,
   "outputs": [
    {
     "name": "stdout",
     "output_type": "stream",
     "text": [
      "Der Job wurde gestartet\n"
     ]
    }
   ],
   "source": [
    "if initial_response.get('Status').get('Code') == 98:\n",
    "    params |= {'job':'true'}\n",
    "    response = get_response_from_endpoint(endpoint, method, params)\n",
    "    jobs_response = response.json()\n",
    "    print('Der Job wurde gestartet')"
   ],
   "metadata": {
    "collapsed": false,
    "pycharm": {
     "name": "#%%\n"
    }
   }
  },
  {
   "cell_type": "code",
   "execution_count": 80,
   "outputs": [
    {
     "data": {
      "text/plain": "{'Ident': {'Service': 'data', 'Method': 'tablefile'},\n 'Status': {'Code': 99,\n  'Content': 'Der Bearbeitungsauftrag wurde erstellt. Die Tabelle kann in Kürze als Ergebnis mit folgendem Namen abgerufen werden: 42153-0001_604489979',\n  'Type': 'Information'},\n 'Parameter': {'username': '********************',\n  'password': '********************',\n  'name': '42153-0001',\n  'area': 'Alle',\n  'compress': 'false',\n  'transpose': 'false',\n  'startyear': '',\n  'endyear': '',\n  'timeslices': '20',\n  'regionalvariable': '',\n  'regionalkey': '',\n  'classifyingvariable1': '',\n  'classifyingkey1': '',\n  'classifyingvariable2': '',\n  'classifyingkey2': '',\n  'classifyingvariable3': '',\n  'classifyingkey3': '',\n  'format': 'csv',\n  'job': 'true',\n  'stand': '01.01.1970 01:00',\n  'language': 'de'},\n 'Object': None,\n 'Copyright': '© Statistisches Bundesamt (Destatis), 2022'}"
     },
     "execution_count": 80,
     "metadata": {},
     "output_type": "execute_result"
    }
   ],
   "source": [
    "jobs_response"
   ],
   "metadata": {
    "collapsed": false,
    "pycharm": {
     "name": "#%%\n"
    }
   }
  },
  {
   "cell_type": "markdown",
   "source": [
    "Der Informations-Code 99 zeigt an, dass der Job angestoßen wurde. Die ID des Jobs lässt sich im Content des Status finden."
   ],
   "metadata": {
    "collapsed": false,
    "pycharm": {
     "name": "#%% md\n"
    }
   }
  },
  {
   "cell_type": "code",
   "execution_count": 81,
   "outputs": [
    {
     "name": "stdout",
     "output_type": "stream",
     "text": [
      "Der Job wurde angestoßen mit der ID: 42153-0001_604489979\n"
     ]
    }
   ],
   "source": [
    "if jobs_response.get('Status').get('Code') == 99:\n",
    "    s = jobs_response.get('Status').get('Content')\n",
    "    job_ID = s.split(':')[1].strip()\n",
    "    print('Der Job wurde angestoßen mit der ID: {}'.format(job_ID))"
   ],
   "metadata": {
    "collapsed": false,
    "pycharm": {
     "name": "#%%\n"
    }
   }
  },
  {
   "cell_type": "markdown",
   "source": [
    "Wir können den Status des Jobs über den 'catalgoue' Endpunkt abfragen."
   ],
   "metadata": {
    "collapsed": false,
    "pycharm": {
     "name": "#%% md\n"
    }
   }
  },
  {
   "cell_type": "code",
   "execution_count": 93,
   "outputs": [],
   "source": [
    "params_catalogue = {\n",
    "    'selection':job_ID,\n",
    "    'sortcriterion':'date',\n",
    "    'area':'Öffentlich',\n",
    "    'pagelength':20,\n",
    "    'language':'de',\n",
    "}\n",
    "catalogue_response = get_response_from_endpoint('catalogue', 'jobs?', params)"
   ],
   "metadata": {
    "collapsed": false,
    "pycharm": {
     "name": "#%%\n"
    }
   }
  },
  {
   "cell_type": "code",
   "execution_count": 95,
   "outputs": [
    {
     "name": "stdout",
     "output_type": "stream",
     "text": [
      "{'Content': 'Werteabruf', 'Date': '27.08.2022', 'Time': '14:48:01', 'State': 'Fertig', 'Code': '42153-0001_604489979'}\n",
      "Der Endpunkt catalogue/jobs wurde angesprochen. Der Status ist: Fertig\n"
     ]
    }
   ],
   "source": [
    "for elem in catalogue_response.json().get('List'):\n",
    "    if elem.get('Code') == job_ID:\n",
    "        job_result = elem\n",
    "        print(job_result)\n",
    "        print('Der Endpunkt catalogue/jobs wurde angesprochen. Der Status ist: {}'.format(job_result.get('State')))"
   ],
   "metadata": {
    "collapsed": false,
    "pycharm": {
     "name": "#%%\n"
    }
   }
  },
  {
   "cell_type": "code",
   "execution_count": 96,
   "outputs": [
    {
     "name": "stdout",
     "output_type": "stream",
     "text": [
      "Das Resultatedokument der ID 42153-0001_604489979 & wurde in folgender Variable gespeichert 'resultfile'\n"
     ]
    }
   ],
   "source": [
    "if job_result.get('State') != 'Fertig':\n",
    "    print('Es wird auf die Fertigstellung des Jobs gewartet!'\n",
    "          '\\nBitte teste diesen Block später erneut.')\n",
    "else:\n",
    "    if job_ID == job_result.get('Code'):\n",
    "        params_resultfile = {\n",
    "            'name':job_ID,\n",
    "            'area':'all',\n",
    "            'compress':'false',\n",
    "            'format':'csv',\n",
    "            'language':'de',\n",
    "        }\n",
    "        resultfile = get_response_from_endpoint('data', 'resultfile?', params)\n",
    "        resultfile = requests.get('{0}/data/resultfile?username={1}&password={2}&name={3}&area=all&compress=false&format=csv&language=de'.format(genesis_url, genesis_user, genesis_pwd,job_ID))\n",
    "        print('Das Resultatedokument der ID {0} & wurde in folgender Variable gespeichert \\'resultfile\\''.format(job_ID))"
   ],
   "metadata": {
    "collapsed": false,
    "pycharm": {
     "name": "#%%\n"
    }
   }
  },
  {
   "cell_type": "markdown",
   "source": [],
   "metadata": {
    "collapsed": false,
    "pycharm": {
     "name": "#%% md\n"
    }
   }
  }
 ],
 "metadata": {
  "kernelspec": {
   "display_name": "Python 3",
   "language": "python",
   "name": "python3"
  },
  "language_info": {
   "codemirror_mode": {
    "name": "ipython",
    "version": 2
   },
   "file_extension": ".py",
   "mimetype": "text/x-python",
   "name": "python",
   "nbconvert_exporter": "python",
   "pygments_lexer": "ipython2",
   "version": "2.7.6"
  }
 },
 "nbformat": 4,
 "nbformat_minor": 0
}
