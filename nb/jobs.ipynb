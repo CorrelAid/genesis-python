{
 "cells": [
  {
   "cell_type": "markdown",
   "source": [
    "# Notizbuch für den 'data' Endpunkt & Spezifikation von 'job=true'"
   ],
   "metadata": {
    "collapsed": false,
    "pycharm": {
     "name": "#%% md\n"
    }
   }
  },
  {
   "cell_type": "code",
   "execution_count": 1,
   "outputs": [],
   "source": [
    "import requests\n",
    "from pygenesis.http_helper import get_data_from_endpoint, load_data"
   ],
   "metadata": {
    "collapsed": false,
    "pycharm": {
     "name": "#%%\n"
    }
   }
  },
  {
   "cell_type": "markdown",
   "source": [
    "Initial wird 'job=false' gesetzt, dies ist identisch zum nicht spezifizieren des Parameteres."
   ],
   "metadata": {
    "collapsed": false,
    "pycharm": {
     "name": "#%% md\n"
    }
   }
  },
  {
   "cell_type": "code",
   "execution_count": 2,
   "outputs": [
    {
     "name": "stderr",
     "output_type": "stream",
     "text": [
      "Die Daten sind zu groß um direkt abgerufen zu werden.Es muss ein Job gestartet werden, der einige Sekunden braucht,um die Daten bereitzustellen und abzurufen.\n",
      " Sollen wir einen Job starten?\n",
      " Ja/Nein:\n"
     ]
    },
    {
     "name": "stdout",
     "output_type": "stream",
     "text": [
      "{'Ident': {'Service': 'data', 'Method': 'tablefile'}, 'Status': {'Code': 99, 'Content': 'Der Bearbeitungsauftrag wurde erstellt. Die Tabelle kann in Kürze als Ergebnis mit folgendem Namen abgerufen werden: 42151-0005_609791721', 'Type': 'Information'}, 'Parameter': {'username': '********************', 'password': '********************', 'name': '42151-0005', 'area': 'Alle', 'compress': 'false', 'transpose': 'false', 'startyear': '', 'endyear': '', 'timeslices': '20', 'regionalvariable': '', 'regionalkey': '', 'classifyingvariable1': '', 'classifyingkey1': '', 'classifyingvariable2': '', 'classifyingkey2': '', 'classifyingvariable3': '', 'classifyingkey3': '', 'format': 'csv', 'job': 'true', 'stand': '01.01.1970 01:00', 'language': 'de'}, 'Object': None, 'Copyright': '© Statistisches Bundesamt (Destatis), 2022'}\n",
      "{'Ident': {'Service': 'catalogue', 'Method': 'jobs'}, 'Status': {'Code': 0, 'Content': 'erfolgreich', 'Type': 'Information'}, 'Parameter': {'username': '********************', 'password': '********************', 'selection': '*42151-0005_609791721*', 'searchcriterion': 'Code', 'sortcriterion': 'Auftragstyp', 'type': 'Alle', 'pagelength': '100', 'language': 'de', 'area': 'Benutzer'}, 'List': [{'Content': 'Werteabruf', 'Date': '19.09.2022', 'Time': '19:49:01', 'State': 'Wartet', 'Code': '42151-0005_609791721'}], 'Copyright': '© Statistisches Bundesamt (Destatis), 2022'}\n",
      "{'Ident': {'Service': 'catalogue', 'Method': 'jobs'}, 'Status': {'Code': 0, 'Content': 'erfolgreich', 'Type': 'Information'}, 'Parameter': {'username': '********************', 'password': '********************', 'selection': '*42151-0005_609791721*', 'searchcriterion': 'Code', 'sortcriterion': 'Auftragstyp', 'type': 'Alle', 'pagelength': '100', 'language': 'de', 'area': 'Benutzer'}, 'List': [{'Content': 'Werteabruf', 'Date': '19.09.2022', 'Time': '19:49:01', 'State': 'Wartet', 'Code': '42151-0005_609791721'}], 'Copyright': '© Statistisches Bundesamt (Destatis), 2022'}\n",
      "{'Ident': {'Service': 'catalogue', 'Method': 'jobs'}, 'Status': {'Code': 0, 'Content': 'erfolgreich', 'Type': 'Information'}, 'Parameter': {'username': '********************', 'password': '********************', 'selection': '*42151-0005_609791721*', 'searchcriterion': 'Code', 'sortcriterion': 'Auftragstyp', 'type': 'Alle', 'pagelength': '100', 'language': 'de', 'area': 'Benutzer'}, 'List': [{'Content': 'Werteabruf', 'Date': '19.09.2022', 'Time': '19:49:01', 'State': 'Fertig', 'Code': '42151-0005_609791721'}], 'Copyright': '© Statistisches Bundesamt (Destatis), 2022'}\n",
      "test1\n",
      "{'Ident': {'Service': 'data', 'Method': 'tablefile'}, 'Status': {'Code': 98, 'Content': 'Die Tabelle ist zu gross, um im Dialog abgerufen zu werden. Bitte nutzen sie den Webservice mit dem Parameter auftrag=true um eine Verarbeitung im Hintergrund zu starten.', 'Type': 'Fehler'}, 'Parameter': {'username': '********************', 'password': '********************', 'name': '42151-0005', 'area': 'Alle', 'compress': 'false', 'transpose': 'false', 'startyear': '', 'endyear': '', 'timeslices': '20', 'regionalvariable': '', 'regionalkey': '', 'classifyingvariable1': '', 'classifyingkey1': '', 'classifyingvariable2': '', 'classifyingkey2': '', 'classifyingvariable3': '', 'classifyingkey3': '', 'format': 'csv', 'job': 'false', 'stand': '01.01.1970 01:00', 'language': 'de'}, 'Object': None, 'Copyright': '© Statistisches Bundesamt (Destatis), 2022'}\n"
     ]
    },
    {
     "ename": "DestatisStatusError",
     "evalue": "Die Tabelle ist zu gross, um im Dialog abgerufen zu werden. Bitte nutzen sie den Webservice mit dem Parameter auftrag=true um eine Verarbeitung im Hintergrund zu starten.",
     "output_type": "error",
     "traceback": [
      "\u001B[0;31m---------------------------------------------------------------------------\u001B[0m",
      "\u001B[0;31mDestatisStatusError\u001B[0m                       Traceback (most recent call last)",
      "Input \u001B[0;32mIn [2]\u001B[0m, in \u001B[0;36m<cell line: 9>\u001B[0;34m()\u001B[0m\n\u001B[1;32m      2\u001B[0m method \u001B[38;5;241m=\u001B[39m \u001B[38;5;124m'\u001B[39m\u001B[38;5;124mtablefile\u001B[39m\u001B[38;5;124m'\u001B[39m\n\u001B[1;32m      3\u001B[0m params \u001B[38;5;241m=\u001B[39m {\u001B[38;5;124m'\u001B[39m\u001B[38;5;124mname\u001B[39m\u001B[38;5;124m'\u001B[39m:\u001B[38;5;124m'\u001B[39m\u001B[38;5;124m42151-0005\u001B[39m\u001B[38;5;124m'\u001B[39m,\n\u001B[1;32m      4\u001B[0m           \u001B[38;5;124m'\u001B[39m\u001B[38;5;124marea\u001B[39m\u001B[38;5;124m'\u001B[39m:\u001B[38;5;124m'\u001B[39m\u001B[38;5;124mall\u001B[39m\u001B[38;5;124m'\u001B[39m,\n\u001B[1;32m      5\u001B[0m           \u001B[38;5;124m'\u001B[39m\u001B[38;5;124mtimeslices\u001B[39m\u001B[38;5;124m'\u001B[39m:\u001B[38;5;241m20\u001B[39m,\n\u001B[1;32m      6\u001B[0m           \u001B[38;5;124m'\u001B[39m\u001B[38;5;124msortcriterion\u001B[39m\u001B[38;5;124m'\u001B[39m: \u001B[38;5;124m'\u001B[39m\u001B[38;5;124mAuftragstyp\u001B[39m\u001B[38;5;124m'\u001B[39m,\n\u001B[1;32m      7\u001B[0m           \u001B[38;5;124m'\u001B[39m\u001B[38;5;124mjob\u001B[39m\u001B[38;5;124m'\u001B[39m:\u001B[38;5;124m'\u001B[39m\u001B[38;5;124mfalse\u001B[39m\u001B[38;5;124m'\u001B[39m,\n\u001B[1;32m      8\u001B[0m           \u001B[38;5;124m'\u001B[39m\u001B[38;5;124mlanguage\u001B[39m\u001B[38;5;124m'\u001B[39m:\u001B[38;5;124m'\u001B[39m\u001B[38;5;124mde\u001B[39m\u001B[38;5;124m'\u001B[39m,}\n\u001B[0;32m----> 9\u001B[0m response \u001B[38;5;241m=\u001B[39m \u001B[43mload_data\u001B[49m\u001B[43m(\u001B[49m\u001B[43mendpoint\u001B[49m\u001B[38;5;241;43m=\u001B[39;49m\u001B[43mendpoint\u001B[49m\u001B[43m,\u001B[49m\u001B[43m \u001B[49m\u001B[43mmethod\u001B[49m\u001B[38;5;241;43m=\u001B[39;49m\u001B[43mmethod\u001B[49m\u001B[43m,\u001B[49m\u001B[43m \u001B[49m\u001B[43mparams\u001B[49m\u001B[38;5;241;43m=\u001B[39;49m\u001B[43mparams\u001B[49m\u001B[43m)\u001B[49m\n",
      "File \u001B[0;32m~/coding_projects/Genesis-Python-API/genesis-python/src/pygenesis/http_helper.py:40\u001B[0m, in \u001B[0;36mload_data\u001B[0;34m(endpoint, method, params, as_json)\u001B[0m\n\u001B[1;32m     38\u001B[0m     data \u001B[38;5;241m=\u001B[39m read_from_cache(cache_dir, name, endpoint, method, params)\n\u001B[1;32m     39\u001B[0m \u001B[38;5;28;01melse\u001B[39;00m:\n\u001B[0;32m---> 40\u001B[0m     data \u001B[38;5;241m=\u001B[39m \u001B[43mget_data_from_endpoint\u001B[49m\u001B[43m(\u001B[49m\u001B[43mendpoint\u001B[49m\u001B[43m,\u001B[49m\u001B[43m \u001B[49m\u001B[43mmethod\u001B[49m\u001B[43m,\u001B[49m\u001B[43m \u001B[49m\u001B[43mparams\u001B[49m\u001B[43m)\u001B[49m\n\u001B[1;32m     42\u001B[0m     \u001B[38;5;28;01mif\u001B[39;00m endpoint \u001B[38;5;241m==\u001B[39m \u001B[38;5;124m\"\u001B[39m\u001B[38;5;124mdata\u001B[39m\u001B[38;5;124m\"\u001B[39m:\n\u001B[1;32m     43\u001B[0m         cache_data(cache_dir, name, endpoint, method, params, data)\n",
      "File \u001B[0;32m~/coding_projects/Genesis-Python-API/genesis-python/src/pygenesis/http_helper.py:96\u001B[0m, in \u001B[0;36mget_data_from_endpoint\u001B[0;34m(endpoint, method, params)\u001B[0m\n\u001B[1;32m     94\u001B[0m \u001B[38;5;28mprint\u001B[39m(response\u001B[38;5;241m.\u001B[39mjson())\n\u001B[1;32m     95\u001B[0m _check_invalid_status_code(response\u001B[38;5;241m.\u001B[39mstatus_code)\n\u001B[0;32m---> 96\u001B[0m \u001B[43m_check_invalid_destatis_status_code\u001B[49m\u001B[43m(\u001B[49m\u001B[43mresponse\u001B[49m\u001B[43m)\u001B[49m\n\u001B[1;32m     98\u001B[0m \u001B[38;5;28;01mreturn\u001B[39;00m \u001B[38;5;28mstr\u001B[39m(response\u001B[38;5;241m.\u001B[39mtext)\n",
      "File \u001B[0;32m~/coding_projects/Genesis-Python-API/genesis-python/src/pygenesis/http_helper.py:312\u001B[0m, in \u001B[0;36m_check_invalid_destatis_status_code\u001B[0;34m(response)\u001B[0m\n\u001B[1;32m    309\u001B[0m     response_dict \u001B[38;5;241m=\u001B[39m \u001B[38;5;28;01mNone\u001B[39;00m\n\u001B[1;32m    311\u001B[0m \u001B[38;5;28;01mif\u001B[39;00m response_dict \u001B[38;5;129;01mis\u001B[39;00m \u001B[38;5;129;01mnot\u001B[39;00m \u001B[38;5;28;01mNone\u001B[39;00m:\n\u001B[0;32m--> 312\u001B[0m     \u001B[43m_check_destatis_status\u001B[49m\u001B[43m(\u001B[49m\u001B[43mresponse_dict\u001B[49m\u001B[38;5;241;43m.\u001B[39;49m\u001B[43mget\u001B[49m\u001B[43m(\u001B[49m\u001B[38;5;124;43m\"\u001B[39;49m\u001B[38;5;124;43mStatus\u001B[39;49m\u001B[38;5;124;43m\"\u001B[39;49m\u001B[43m,\u001B[49m\u001B[43m \u001B[49m\u001B[43m{\u001B[49m\u001B[43m}\u001B[49m\u001B[43m)\u001B[49m\u001B[43m)\u001B[49m\n",
      "File \u001B[0;32m~/coding_projects/Genesis-Python-API/genesis-python/src/pygenesis/http_helper.py:349\u001B[0m, in \u001B[0;36m_check_destatis_status\u001B[0;34m(destatis_status)\u001B[0m\n\u001B[1;32m    347\u001B[0m \u001B[38;5;66;03m# check for destatis/ query errors\u001B[39;00m\n\u001B[1;32m    348\u001B[0m \u001B[38;5;28;01melif\u001B[39;00m (destatis_status_code \u001B[38;5;241m==\u001B[39m \u001B[38;5;241m104\u001B[39m) \u001B[38;5;129;01mor\u001B[39;00m (destatis_status_type \u001B[38;5;129;01min\u001B[39;00m error_en_de):\n\u001B[0;32m--> 349\u001B[0m     \u001B[38;5;28;01mraise\u001B[39;00m DestatisStatusError(destatis_status_content)\n\u001B[1;32m    351\u001B[0m \u001B[38;5;66;03m# output warnings to user\u001B[39;00m\n\u001B[1;32m    352\u001B[0m \u001B[38;5;28;01melif\u001B[39;00m (destatis_status_code \u001B[38;5;241m==\u001B[39m \u001B[38;5;241m22\u001B[39m) \u001B[38;5;129;01mor\u001B[39;00m (\n\u001B[1;32m    353\u001B[0m     destatis_status_type \u001B[38;5;129;01min\u001B[39;00m warning_en_de\n\u001B[1;32m    354\u001B[0m ):\n",
      "\u001B[0;31mDestatisStatusError\u001B[0m: Die Tabelle ist zu gross, um im Dialog abgerufen zu werden. Bitte nutzen sie den Webservice mit dem Parameter auftrag=true um eine Verarbeitung im Hintergrund zu starten."
     ]
    }
   ],
   "source": [
    "endpoint = 'data'\n",
    "method = 'tablefile'\n",
    "params = {'name':'42151-0005',\n",
    "          'area':'all',\n",
    "          'timeslices':20,\n",
    "          'sortcriterion': 'Auftragstyp',\n",
    "          'job':'false',\n",
    "          'language':'de',}\n",
    "response = load_data(endpoint=endpoint, method=method, params=params)\n",
    "#initial_response = response.json()"
   ],
   "metadata": {
    "collapsed": false,
    "pycharm": {
     "name": "#%%\n"
    }
   }
  },
  {
   "cell_type": "code",
   "execution_count": 3,
   "outputs": [
    {
     "name": "stderr",
     "output_type": "stream",
     "text": [
      "Die Daten sind zu groß um direkt abgerufen zu werden.Es muss ein Job gestartet werden, der einige Sekunden braucht,um die Daten bereitzustellen und abzurufen.\n",
      " Sollen wir einen Job starten?\n",
      " Ja/Nein:\n"
     ]
    },
    {
     "name": "stdout",
     "output_type": "stream",
     "text": [
      "{'Ident': {'Service': 'data', 'Method': 'tablefile'}, 'Status': {'Code': 99, 'Content': 'Der Bearbeitungsauftrag wurde erstellt. Die Tabelle kann in Kürze als Ergebnis mit folgendem Namen abgerufen werden: 42151-0005_610144985', 'Type': 'Information'}, 'Parameter': {'username': '********************', 'password': '********************', 'name': '42151-0005', 'area': 'Alle', 'compress': 'false', 'transpose': 'false', 'startyear': '', 'endyear': '', 'timeslices': '20', 'regionalvariable': '', 'regionalkey': '', 'classifyingvariable1': '', 'classifyingkey1': '', 'classifyingvariable2': '', 'classifyingkey2': '', 'classifyingvariable3': '', 'classifyingkey3': '', 'format': 'csv', 'job': 'true', 'stand': '01.01.1970 01:00', 'language': 'de'}, 'Object': None, 'Copyright': '© Statistisches Bundesamt (Destatis), 2022'}\n",
      "{'Ident': {'Service': 'catalogue', 'Method': 'jobs'}, 'Status': {'Code': 0, 'Content': 'erfolgreich', 'Type': 'Information'}, 'Parameter': {'username': '********************', 'password': '********************', 'selection': '*42151-0005_610144985*', 'searchcriterion': 'Code', 'sortcriterion': 'Auftragstyp', 'type': 'Alle', 'pagelength': '100', 'language': 'de', 'area': 'Benutzer'}, 'List': [{'Content': 'Werteabruf', 'Date': '19.09.2022', 'Time': '19:55:01', 'State': 'Wartet', 'Code': '42151-0005_610144985'}], 'Copyright': '© Statistisches Bundesamt (Destatis), 2022'}\n",
      "{'Ident': {'Service': 'catalogue', 'Method': 'jobs'}, 'Status': {'Code': 0, 'Content': 'erfolgreich', 'Type': 'Information'}, 'Parameter': {'username': '********************', 'password': '********************', 'selection': '*42151-0005_610144985*', 'searchcriterion': 'Code', 'sortcriterion': 'Auftragstyp', 'type': 'Alle', 'pagelength': '100', 'language': 'de', 'area': 'Benutzer'}, 'List': [{'Content': 'Werteabruf', 'Date': '19.09.2022', 'Time': '19:55:01', 'State': 'Wartet', 'Code': '42151-0005_610144985'}], 'Copyright': '© Statistisches Bundesamt (Destatis), 2022'}\n",
      "{'Ident': {'Service': 'catalogue', 'Method': 'jobs'}, 'Status': {'Code': 0, 'Content': 'erfolgreich', 'Type': 'Information'}, 'Parameter': {'username': '********************', 'password': '********************', 'selection': '*42151-0005_610144985*', 'searchcriterion': 'Code', 'sortcriterion': 'Auftragstyp', 'type': 'Alle', 'pagelength': '100', 'language': 'de', 'area': 'Benutzer'}, 'List': [{'Content': 'Werteabruf', 'Date': '19.09.2022', 'Time': '19:55:01', 'State': 'Fertig', 'Code': '42151-0005_610144985'}], 'Copyright': '© Statistisches Bundesamt (Destatis), 2022'}\n",
      "test1\n",
      "{'Ident': {'Service': 'data', 'Method': 'tablefile'}, 'Status': {'Code': 98, 'Content': 'Die Tabelle ist zu gross, um im Dialog abgerufen zu werden. Bitte nutzen sie den Webservice mit dem Parameter auftrag=true um eine Verarbeitung im Hintergrund zu starten.', 'Type': 'Fehler'}, 'Parameter': {'username': '********************', 'password': '********************', 'name': '42151-0005', 'area': 'Alle', 'compress': 'false', 'transpose': 'false', 'startyear': '', 'endyear': '', 'timeslices': '20', 'regionalvariable': '', 'regionalkey': '', 'classifyingvariable1': '', 'classifyingkey1': '', 'classifyingvariable2': '', 'classifyingkey2': '', 'classifyingvariable3': '', 'classifyingkey3': '', 'format': 'csv', 'job': 'false', 'stand': '01.01.1970 01:00', 'language': 'de'}, 'Object': None, 'Copyright': '© Statistisches Bundesamt (Destatis), 2022'}\n"
     ]
    },
    {
     "ename": "DestatisStatusError",
     "evalue": "Die Tabelle ist zu gross, um im Dialog abgerufen zu werden. Bitte nutzen sie den Webservice mit dem Parameter auftrag=true um eine Verarbeitung im Hintergrund zu starten.",
     "output_type": "error",
     "traceback": [
      "\u001B[0;31m---------------------------------------------------------------------------\u001B[0m",
      "\u001B[0;31mDestatisStatusError\u001B[0m                       Traceback (most recent call last)",
      "Input \u001B[0;32mIn [3]\u001B[0m, in \u001B[0;36m<cell line: 9>\u001B[0;34m()\u001B[0m\n\u001B[1;32m      2\u001B[0m method \u001B[38;5;241m=\u001B[39m \u001B[38;5;124m'\u001B[39m\u001B[38;5;124mtablefile\u001B[39m\u001B[38;5;124m'\u001B[39m\n\u001B[1;32m      3\u001B[0m params \u001B[38;5;241m=\u001B[39m {\u001B[38;5;124m'\u001B[39m\u001B[38;5;124mname\u001B[39m\u001B[38;5;124m'\u001B[39m:\u001B[38;5;124m'\u001B[39m\u001B[38;5;124m42151-0005\u001B[39m\u001B[38;5;124m'\u001B[39m,\n\u001B[1;32m      4\u001B[0m           \u001B[38;5;124m'\u001B[39m\u001B[38;5;124marea\u001B[39m\u001B[38;5;124m'\u001B[39m:\u001B[38;5;124m'\u001B[39m\u001B[38;5;124mall\u001B[39m\u001B[38;5;124m'\u001B[39m,\n\u001B[1;32m      5\u001B[0m           \u001B[38;5;124m'\u001B[39m\u001B[38;5;124mtimeslices\u001B[39m\u001B[38;5;124m'\u001B[39m:\u001B[38;5;241m20\u001B[39m,\n\u001B[1;32m      6\u001B[0m           \u001B[38;5;124m'\u001B[39m\u001B[38;5;124msortcriterion\u001B[39m\u001B[38;5;124m'\u001B[39m: \u001B[38;5;124m'\u001B[39m\u001B[38;5;124mAuftragstyp\u001B[39m\u001B[38;5;124m'\u001B[39m,\n\u001B[1;32m      7\u001B[0m           \u001B[38;5;124m'\u001B[39m\u001B[38;5;124mjob\u001B[39m\u001B[38;5;124m'\u001B[39m:\u001B[38;5;124m'\u001B[39m\u001B[38;5;124mfalse\u001B[39m\u001B[38;5;124m'\u001B[39m,\n\u001B[1;32m      8\u001B[0m           \u001B[38;5;124m'\u001B[39m\u001B[38;5;124mlanguage\u001B[39m\u001B[38;5;124m'\u001B[39m:\u001B[38;5;124m'\u001B[39m\u001B[38;5;124mde\u001B[39m\u001B[38;5;124m'\u001B[39m,}\n\u001B[0;32m----> 9\u001B[0m response \u001B[38;5;241m=\u001B[39m \u001B[43mget_data_from_endpoint\u001B[49m\u001B[43m(\u001B[49m\u001B[43mendpoint\u001B[49m\u001B[38;5;241;43m=\u001B[39;49m\u001B[43mendpoint\u001B[49m\u001B[43m,\u001B[49m\u001B[43m \u001B[49m\u001B[43mmethod\u001B[49m\u001B[38;5;241;43m=\u001B[39;49m\u001B[43mmethod\u001B[49m\u001B[43m,\u001B[49m\u001B[43m \u001B[49m\u001B[43mparams\u001B[49m\u001B[38;5;241;43m=\u001B[39;49m\u001B[43mparams\u001B[49m\u001B[43m)\u001B[49m\n",
      "File \u001B[0;32m~/coding_projects/Genesis-Python-API/genesis-python/src/pygenesis/http_helper.py:96\u001B[0m, in \u001B[0;36mget_data_from_endpoint\u001B[0;34m(endpoint, method, params)\u001B[0m\n\u001B[1;32m     94\u001B[0m \u001B[38;5;28mprint\u001B[39m(response\u001B[38;5;241m.\u001B[39mjson())\n\u001B[1;32m     95\u001B[0m _check_invalid_status_code(response\u001B[38;5;241m.\u001B[39mstatus_code)\n\u001B[0;32m---> 96\u001B[0m \u001B[43m_check_invalid_destatis_status_code\u001B[49m\u001B[43m(\u001B[49m\u001B[43mresponse\u001B[49m\u001B[43m)\u001B[49m\n\u001B[1;32m     98\u001B[0m \u001B[38;5;28;01mreturn\u001B[39;00m \u001B[38;5;28mstr\u001B[39m(response\u001B[38;5;241m.\u001B[39mtext)\n",
      "File \u001B[0;32m~/coding_projects/Genesis-Python-API/genesis-python/src/pygenesis/http_helper.py:312\u001B[0m, in \u001B[0;36m_check_invalid_destatis_status_code\u001B[0;34m(response)\u001B[0m\n\u001B[1;32m    309\u001B[0m     response_dict \u001B[38;5;241m=\u001B[39m \u001B[38;5;28;01mNone\u001B[39;00m\n\u001B[1;32m    311\u001B[0m \u001B[38;5;28;01mif\u001B[39;00m response_dict \u001B[38;5;129;01mis\u001B[39;00m \u001B[38;5;129;01mnot\u001B[39;00m \u001B[38;5;28;01mNone\u001B[39;00m:\n\u001B[0;32m--> 312\u001B[0m     \u001B[43m_check_destatis_status\u001B[49m\u001B[43m(\u001B[49m\u001B[43mresponse_dict\u001B[49m\u001B[38;5;241;43m.\u001B[39;49m\u001B[43mget\u001B[49m\u001B[43m(\u001B[49m\u001B[38;5;124;43m\"\u001B[39;49m\u001B[38;5;124;43mStatus\u001B[39;49m\u001B[38;5;124;43m\"\u001B[39;49m\u001B[43m,\u001B[49m\u001B[43m \u001B[49m\u001B[43m{\u001B[49m\u001B[43m}\u001B[49m\u001B[43m)\u001B[49m\u001B[43m)\u001B[49m\n",
      "File \u001B[0;32m~/coding_projects/Genesis-Python-API/genesis-python/src/pygenesis/http_helper.py:349\u001B[0m, in \u001B[0;36m_check_destatis_status\u001B[0;34m(destatis_status)\u001B[0m\n\u001B[1;32m    347\u001B[0m \u001B[38;5;66;03m# check for destatis/ query errors\u001B[39;00m\n\u001B[1;32m    348\u001B[0m \u001B[38;5;28;01melif\u001B[39;00m (destatis_status_code \u001B[38;5;241m==\u001B[39m \u001B[38;5;241m104\u001B[39m) \u001B[38;5;129;01mor\u001B[39;00m (destatis_status_type \u001B[38;5;129;01min\u001B[39;00m error_en_de):\n\u001B[0;32m--> 349\u001B[0m     \u001B[38;5;28;01mraise\u001B[39;00m DestatisStatusError(destatis_status_content)\n\u001B[1;32m    351\u001B[0m \u001B[38;5;66;03m# output warnings to user\u001B[39;00m\n\u001B[1;32m    352\u001B[0m \u001B[38;5;28;01melif\u001B[39;00m (destatis_status_code \u001B[38;5;241m==\u001B[39m \u001B[38;5;241m22\u001B[39m) \u001B[38;5;129;01mor\u001B[39;00m (\n\u001B[1;32m    353\u001B[0m     destatis_status_type \u001B[38;5;129;01min\u001B[39;00m warning_en_de\n\u001B[1;32m    354\u001B[0m ):\n",
      "\u001B[0;31mDestatisStatusError\u001B[0m: Die Tabelle ist zu gross, um im Dialog abgerufen zu werden. Bitte nutzen sie den Webservice mit dem Parameter auftrag=true um eine Verarbeitung im Hintergrund zu starten."
     ]
    }
   ],
   "source": [
    "endpoint = 'data'\n",
    "method = 'tablefile'\n",
    "params = {'name':'42151-0005',\n",
    "          'area':'all',\n",
    "          'timeslices':20,\n",
    "          'sortcriterion': 'Auftragstyp',\n",
    "          'job':'false',\n",
    "          'language':'de',}\n",
    "response = get_data_from_endpoint(endpoint=endpoint, method=method, params=params)\n",
    "#initial_response = response.json()"
   ],
   "metadata": {
    "collapsed": false,
    "pycharm": {
     "name": "#%%\n"
    }
   }
  },
  {
   "cell_type": "code",
   "execution_count": null,
   "outputs": [],
   "source": [
    "response"
   ],
   "metadata": {
    "collapsed": false,
    "pycharm": {
     "name": "#%%\n"
    }
   }
  },
  {
   "cell_type": "code",
   "execution_count": null,
   "outputs": [],
   "source": [
    "initial_response"
   ],
   "metadata": {
    "collapsed": false,
    "pycharm": {
     "name": "#%%\n"
    }
   }
  },
  {
   "cell_type": "code",
   "execution_count": null,
   "outputs": [],
   "source": [
    "initial_response.get('Status')"
   ],
   "metadata": {
    "collapsed": false,
    "pycharm": {
     "name": "#%%\n"
    }
   }
  },
  {
   "cell_type": "markdown",
   "source": [
    "Der Status ist vom Typ Fehler, da die Tabelle zu groß ist & mittels eines Jobs abgerufen werden muss. Wir stellen somit erneut den gleichen Funktionsaufruf, diese mal aber mit 'job=true'."
   ],
   "metadata": {
    "collapsed": false,
    "pycharm": {
     "name": "#%% md\n"
    }
   }
  },
  {
   "cell_type": "code",
   "execution_count": null,
   "outputs": [],
   "source": [
    "if initial_response.get('Status').get('Code') == 98:\n",
    "    params |= {'job':'true'}\n",
    "    response = get_response_from_endpoint(endpoint, method, params)\n",
    "    jobs_response = response.json()\n",
    "    print('Der Job wurde gestartet')"
   ],
   "metadata": {
    "collapsed": false,
    "pycharm": {
     "name": "#%%\n"
    }
   }
  },
  {
   "cell_type": "code",
   "execution_count": null,
   "outputs": [],
   "source": [
    "jobs_response"
   ],
   "metadata": {
    "collapsed": false,
    "pycharm": {
     "name": "#%%\n"
    }
   }
  },
  {
   "cell_type": "markdown",
   "source": [
    "Der Informations-Code 99 zeigt an, dass der Job angestoßen wurde. Die ID des Jobs lässt sich im Content des Status finden."
   ],
   "metadata": {
    "collapsed": false,
    "pycharm": {
     "name": "#%% md\n"
    }
   }
  },
  {
   "cell_type": "code",
   "execution_count": null,
   "outputs": [],
   "source": [
    "if jobs_response.get('Status').get('Code') == 99:\n",
    "    s = jobs_response.get('Status').get('Content')\n",
    "    job_ID = s.split(':')[1].strip()\n",
    "    print('Der Job wurde angestoßen mit der ID: {}'.format(job_ID))"
   ],
   "metadata": {
    "collapsed": false,
    "pycharm": {
     "name": "#%%\n"
    }
   }
  },
  {
   "cell_type": "markdown",
   "source": [
    "Wir können den Status des Jobs über den 'catalgoue' Endpunkt abfragen."
   ],
   "metadata": {
    "collapsed": false,
    "pycharm": {
     "name": "#%% md\n"
    }
   }
  },
  {
   "cell_type": "code",
   "execution_count": null,
   "outputs": [],
   "source": [
    "params_catalogue = {\n",
    "    'selection':job_ID,\n",
    "    'sortcriterion':'date',\n",
    "    'area':'Öffentlich',\n",
    "    'pagelength':20,\n",
    "    'language':'de',\n",
    "}\n",
    "catalogue_response = get_response_from_endpoint('catalogue', 'jobs?', params)"
   ],
   "metadata": {
    "collapsed": false,
    "pycharm": {
     "name": "#%%\n"
    }
   }
  },
  {
   "cell_type": "code",
   "execution_count": null,
   "outputs": [],
   "source": [
    "for elem in catalogue_response.json().get('List'):\n",
    "    if elem.get('Code') == job_ID:\n",
    "        job_result = elem\n",
    "        print(job_result)\n",
    "        print('Der Endpunkt catalogue/jobs wurde angesprochen. Der Status ist: {}'.format(job_result.get('State')))"
   ],
   "metadata": {
    "collapsed": false,
    "pycharm": {
     "name": "#%%\n"
    }
   }
  },
  {
   "cell_type": "code",
   "execution_count": null,
   "outputs": [],
   "source": [
    "if job_result.get('State') != 'Fertig':\n",
    "    print('Es wird auf die Fertigstellung des Jobs gewartet!'\n",
    "          '\\nBitte teste diesen Block später erneut.')\n",
    "else:\n",
    "    if job_ID == job_result.get('Code'):\n",
    "        params_resultfile = {\n",
    "            'name':job_ID,\n",
    "            'area':'all',\n",
    "            'compress':'false',\n",
    "            'format':'csv',\n",
    "            'language':'de',\n",
    "        }\n",
    "        resultfile = get_response_from_endpoint('data', 'resultfile?', params)\n",
    "        resultfile = requests.get('{0}/data/resultfile?username={1}&password={2}&name={3}&area=all&compress=false&format=csv&language=de'.format(genesis_url, genesis_user, genesis_pwd,job_ID))\n",
    "        print('Das Resultatedokument der ID {0} & wurde in folgender Variable gespeichert \\'resultfile\\''.format(job_ID))"
   ],
   "metadata": {
    "collapsed": false,
    "pycharm": {
     "name": "#%%\n"
    }
   }
  },
  {
   "cell_type": "markdown",
   "source": [],
   "metadata": {
    "collapsed": false,
    "pycharm": {
     "name": "#%% md\n"
    }
   }
  }
 ],
 "metadata": {
  "kernelspec": {
   "display_name": "Python 3",
   "language": "python",
   "name": "python3"
  },
  "language_info": {
   "codemirror_mode": {
    "name": "ipython",
    "version": 2
   },
   "file_extension": ".py",
   "mimetype": "text/x-python",
   "name": "python",
   "nbconvert_exporter": "python",
   "pygments_lexer": "ipython2",
   "version": "2.7.6"
  }
 },
 "nbformat": 4,
 "nbformat_minor": 0
}