{
 "cells": [
  {
   "cell_type": "code",
   "execution_count": 1,
   "id": "6a0fdd61",
   "metadata": {},
   "outputs": [],
   "source": [
    "import pygenesis\n",
    "from pygenesis import Cube, Table, init_config, clear_cache"
   ]
  },
  {
   "cell_type": "code",
   "execution_count": null,
   "id": "6c4b965e",
   "metadata": {},
   "outputs": [],
   "source": [
    "# only run this if you haven't done so earlier\n",
    "# init_config()"
   ]
  },
  {
   "cell_type": "code",
   "execution_count": 4,
   "id": "601075cc",
   "metadata": {},
   "outputs": [
    {
     "name": "stderr",
     "output_type": "stream",
     "text": [
      "erfolgreich (Mindestens ein Parameter enthält ungültige Werte. Er wurde angepasst, um den Service starten zu können.: name)\n"
     ]
    }
   ],
   "source": [
    "# first, let's download two data sets\n",
    "# these will be cached under your \n",
    "Cube(name=\"22922KJ1141\").get_data()\n",
    "Table(name=\"21311-0001\").get_data()"
   ]
  },
  {
   "cell_type": "code",
   "execution_count": 3,
   "id": "fa6c2498",
   "metadata": {},
   "outputs": [],
   "source": [
    "# You can now test the clear_cache function!\n",
    "# Either with a particular name\n",
    "clear_cache(\"21311-0001\")"
   ]
  },
  {
   "cell_type": "code",
   "execution_count": 3,
   "id": "836b9b2b",
   "metadata": {},
   "outputs": [],
   "source": [
    "# Or without a name to clear the whole cache at once\n",
    "clear_cache()"
   ]
  },
  {
   "cell_type": "code",
   "execution_count": null,
   "id": "a15c363f",
   "metadata": {},
   "outputs": [],
   "source": []
  }
 ],
 "metadata": {
  "kernelspec": {
   "display_name": "Python 3 (ipykernel)",
   "language": "python",
   "name": "python3"
  },
  "language_info": {
   "codemirror_mode": {
    "name": "ipython",
    "version": 3
   },
   "file_extension": ".py",
   "mimetype": "text/x-python",
   "name": "python",
   "nbconvert_exporter": "python",
   "pygments_lexer": "ipython3",
   "version": "3.9.7"
  }
 },
 "nbformat": 4,
 "nbformat_minor": 5
}
